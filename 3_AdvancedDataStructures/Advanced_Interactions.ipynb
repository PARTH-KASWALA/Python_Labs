{
 "cells": [
  {
   "cell_type": "markdown",
   "metadata": {},
   "source": [
    "# Advanced Interactions\n",
    "\n",
    "<img src=\"http://www.rickandviv.net/wp-content/uploads/2008/05/pitfall_5.jpg\">"
   ]
  },
  {
   "cell_type": "markdown",
   "metadata": {},
   "source": [
    "### Lambda Functions ###\n",
    "\n",
    "(anonymous functions)\n",
    "from Lisp & functional programming"
   ]
  },
  {
   "cell_type": "code",
   "execution_count": 1,
   "metadata": {},
   "outputs": [],
   "source": [
    "def numone(x):\n",
    "    return x**2"
   ]
  },
  {
   "cell_type": "code",
   "execution_count": 2,
   "metadata": {},
   "outputs": [],
   "source": [
    "num = numone"
   ]
  },
  {
   "cell_type": "code",
   "execution_count": 3,
   "metadata": {},
   "outputs": [
    {
     "data": {
      "text/plain": [
       "function"
      ]
     },
     "execution_count": 3,
     "metadata": {},
     "output_type": "execute_result"
    }
   ],
   "source": [
    "type(num)"
   ]
  },
  {
   "cell_type": "code",
   "execution_count": 4,
   "metadata": {},
   "outputs": [
    {
     "data": {
      "text/plain": [
       "4"
      ]
     },
     "execution_count": 4,
     "metadata": {},
     "output_type": "execute_result"
    }
   ],
   "source": [
    "num(2)"
   ]
  },
  {
   "cell_type": "code",
   "execution_count": 6,
   "metadata": {},
   "outputs": [
    {
     "data": {
      "text/plain": [
       "4"
      ]
     },
     "execution_count": 6,
     "metadata": {},
     "output_type": "execute_result"
    }
   ],
   "source": [
    "(lambda x: x**2)(2)"
   ]
  },
  {
   "cell_type": "code",
   "execution_count": 7,
   "metadata": {},
   "outputs": [
    {
     "name": "stdout",
     "output_type": "stream",
     "text": [
      "<class 'function'>\n"
     ]
    }
   ],
   "source": [
    "tmp = lambda x: x**2 \n",
    "print(type(tmp))"
   ]
  },
  {
   "cell_type": "code",
   "execution_count": 8,
   "metadata": {},
   "outputs": [
    {
     "data": {
      "text/plain": [
       "4"
      ]
     },
     "execution_count": 8,
     "metadata": {},
     "output_type": "execute_result"
    }
   ],
   "source": [
    "tmp(2)"
   ]
  },
  {
   "cell_type": "code",
   "execution_count": 9,
   "metadata": {},
   "outputs": [
    {
     "data": {
      "text/plain": [
       "8.5"
      ]
     },
     "execution_count": 9,
     "metadata": {},
     "output_type": "execute_result"
    }
   ],
   "source": [
    "# forget about creating a new function name...just do it!\n",
    "(lambda x,y: x**2 + y)(2,4.5)"
   ]
  },
  {
   "cell_type": "code",
   "execution_count": 11,
   "metadata": {},
   "outputs": [
    {
     "name": "stdout",
     "output_type": "stream",
     "text": [
      "pass +ve val\n",
      "11\n",
      "15\n"
     ]
    }
   ],
   "source": [
    "for a in [(-33,4), (5,6), (7,8)]:\n",
    "    print((lambda x, y : x + y if x > 0 else \"pass +ve val\")(*a))"
   ]
  },
  {
   "cell_type": "code",
   "execution_count": 12,
   "metadata": {},
   "outputs": [],
   "source": [
    "## create a list of lambda functions\n",
    "lamfun = [lambda x: x**2, lambda x: x**3, \\\n",
    "           lambda y: math.sqrt(y) if y >= 0 else \"Really? I mean really? %f\" % y]"
   ]
  },
  {
   "cell_type": "code",
   "execution_count": 13,
   "metadata": {},
   "outputs": [],
   "source": [
    "import math"
   ]
  },
  {
   "cell_type": "code",
   "execution_count": 14,
   "metadata": {},
   "outputs": [
    {
     "name": "stdout",
     "output_type": "stream",
     "text": [
      "4\n",
      "-8\n",
      "Really? I mean really? -2.000000\n"
     ]
    }
   ],
   "source": [
    "for l in lamfun: \n",
    "    print(l(-2))\n",
    "   "
   ]
  },
  {
   "cell_type": "markdown",
   "metadata": {},
   "source": [
    "<div class=\"alert alert-info\">\n",
    "lambda functions are meant to be short, one liners. If you need more complex functions, probably better just to name them\n",
    "</div>"
   ]
  },
  {
   "cell_type": "code",
   "execution_count": 15,
   "metadata": {},
   "outputs": [],
   "source": [
    "# %load airline.py\n",
    "airports = {\"DCA\": \"Washington, D.C.\", \"IAD\": \"Dulles\", \"LHR\": \"London-Heathrow\", \\\n",
    "            \"SVO\": \"Moscow\", \"CDA\": \"Chicago-Midway\", \"SBA\": \"Santa Barbara\", \"LAX\": \"Los Angeles\",\\\n",
    "            \"JFK\": \"New York City\", \"MIA\": \"Miami\", \"AUM\": \"Austin, Minnesota\"}\n",
    "            \n",
    "# airline, number, heading to, gate, time (decimal hours) \n",
    "flights = [(\"Southwest\",145,\"DCA\",1,6.00),(\"United\",31,\"IAD\",1,7.1),(\"United\",302,\"LHR\",5,6.5),\\\n",
    "           (\"Aeroflot\",34,\"SVO\",5,9.00),(\"Southwest\",146,\"CDA\",1,9.60), (\"United\",46,\"LAX\",5,6.5),\\\n",
    "           (\"Southwest\",23,\"SBA\",6,12.5),(\"United\",2,\"LAX\",10,12.5),(\"Southwest\",59,\"LAX\",11,14.5),\\\n",
    "           (\"American\", 1,\"JFK\",12,11.3),(\"USAirways\", 8,\"MIA\",20,13.1),(\"United\",2032,\"MIA\",21,15.1),\\\n",
    "           (\"SpamAir\",1,\"AUM\",42,14.4)]"
   ]
  },
  {
   "cell_type": "code",
   "execution_count": 16,
   "metadata": {},
   "outputs": [
    {
     "name": "stdout",
     "output_type": "stream",
     "text": [
      "Help on method_descriptor:\n",
      "\n",
      "sort(self, /, *, key=None, reverse=False)\n",
      "    Sort the list in ascending order and return None.\n",
      "    \n",
      "    The sort is in-place (i.e. the list itself is modified) and stable (i.e. the\n",
      "    order of two equal elements is maintained).\n",
      "    \n",
      "    If a key function is given, apply it once to each list item and sort them,\n",
      "    ascending or descending, according to their function values.\n",
      "    \n",
      "    The reverse flag can be set to sort in descending order.\n",
      "\n"
     ]
    }
   ],
   "source": [
    "help(list.sort)"
   ]
  },
  {
   "cell_type": "code",
   "execution_count": 17,
   "metadata": {},
   "outputs": [
    {
     "name": "stdout",
     "output_type": "stream",
     "text": [
      "[('Aeroflot', 34, 'SVO', 5, 9.0), ('American', 1, 'JFK', 12, 11.3), ('Southwest', 23, 'SBA', 6, 12.5), ('Southwest', 59, 'LAX', 11, 14.5), ('Southwest', 145, 'DCA', 1, 6.0), ('Southwest', 146, 'CDA', 1, 9.6), ('SpamAir', 1, 'AUM', 42, 14.4), ('USAirways', 8, 'MIA', 20, 13.1), ('United', 2, 'LAX', 10, 12.5), ('United', 31, 'IAD', 1, 7.1), ('United', 46, 'LAX', 5, 6.5), ('United', 302, 'LHR', 5, 6.5), ('United', 2032, 'MIA', 21, 15.1)]\n"
     ]
    }
   ],
   "source": [
    "flights.sort() \n",
    "print(flights)"
   ]
  },
  {
   "cell_type": "code",
   "execution_count": 18,
   "metadata": {},
   "outputs": [
    {
     "name": "stdout",
     "output_type": "stream",
     "text": [
      "[('Aeroflot', 34, 'SVO', 5, 9.0),\n",
      " ('American', 1, 'JFK', 12, 11.3),\n",
      " ('Southwest', 23, 'SBA', 6, 12.5),\n",
      " ('Southwest', 59, 'LAX', 11, 14.5),\n",
      " ('Southwest', 145, 'DCA', 1, 6.0),\n",
      " ('Southwest', 146, 'CDA', 1, 9.6),\n",
      " ('SpamAir', 1, 'AUM', 42, 14.4),\n",
      " ('USAirways', 8, 'MIA', 20, 13.1),\n",
      " ('United', 2, 'LAX', 10, 12.5),\n",
      " ('United', 31, 'IAD', 1, 7.1),\n",
      " ('United', 46, 'LAX', 5, 6.5),\n",
      " ('United', 302, 'LHR', 5, 6.5),\n",
      " ('United', 2032, 'MIA', 21, 15.1)]\n"
     ]
    }
   ],
   "source": [
    "import pprint\n",
    "pprint.pprint(flights)"
   ]
  },
  {
   "cell_type": "code",
   "execution_count": 19,
   "metadata": {},
   "outputs": [
    {
     "name": "stdout",
     "output_type": "stream",
     "text": [
      "[('Southwest', 145, 'DCA', 1, 6.0), ('United', 46, 'LAX', 5, 6.5), ('United', 302, 'LHR', 5, 6.5), ('United', 31, 'IAD', 1, 7.1), ('Aeroflot', 34, 'SVO', 5, 9.0), ('Southwest', 146, 'CDA', 1, 9.6), ('American', 1, 'JFK', 12, 11.3), ('Southwest', 23, 'SBA', 6, 12.5), ('United', 2, 'LAX', 10, 12.5), ('USAirways', 8, 'MIA', 20, 13.1), ('SpamAir', 1, 'AUM', 42, 14.4), ('Southwest', 59, 'LAX', 11, 14.5), ('United', 2032, 'MIA', 21, 15.1)]\n"
     ]
    }
   ],
   "source": [
    "flights.sort(key=lambda x: x[4]) \n",
    "print(flights)"
   ]
  },
  {
   "cell_type": "code",
   "execution_count": null,
   "metadata": {},
   "outputs": [],
   "source": []
  },
  {
   "cell_type": "code",
   "execution_count": 20,
   "metadata": {},
   "outputs": [
    {
     "name": "stdout",
     "output_type": "stream",
     "text": [
      "[('Southwest', 145, 'DCA', 1, 6.0),\n",
      " ('United', 46, 'LAX', 5, 6.5),\n",
      " ('United', 302, 'LHR', 5, 6.5),\n",
      " ('United', 31, 'IAD', 1, 7.1),\n",
      " ('Aeroflot', 34, 'SVO', 5, 9.0),\n",
      " ('Southwest', 146, 'CDA', 1, 9.6),\n",
      " ('American', 1, 'JFK', 12, 11.3),\n",
      " ('Southwest', 23, 'SBA', 6, 12.5),\n",
      " ('United', 2, 'LAX', 10, 12.5),\n",
      " ('USAirways', 8, 'MIA', 20, 13.1),\n",
      " ('SpamAir', 1, 'AUM', 42, 14.4),\n",
      " ('Southwest', 59, 'LAX', 11, 14.5),\n",
      " ('United', 2032, 'MIA', 21, 15.1)]\n"
     ]
    }
   ],
   "source": [
    "import pprint\n",
    "pprint.pprint(flights)"
   ]
  },
  {
   "cell_type": "markdown",
   "metadata": {},
   "source": [
    "## Multiple column sorting\n",
    "\n",
    "```python\n",
    "operator.itemgetter(item[, args...])¶\n",
    "```\n",
    "\n",
    "Return a callable object that fetches item from its operand using the operand’s `__getitem__()` method. If multiple items are specified, returns a tuple of lookup values. \n",
    "\n",
    "http://docs.python.org/library/operator.html#module-operator"
   ]
  },
  {
   "cell_type": "code",
   "execution_count": null,
   "metadata": {},
   "outputs": [],
   "source": [
    "import operator"
   ]
  },
  {
   "cell_type": "code",
   "execution_count": null,
   "metadata": {},
   "outputs": [],
   "source": [
    "getval = operator.itemgetter(-2)"
   ]
  },
  {
   "cell_type": "code",
   "execution_count": null,
   "metadata": {},
   "outputs": [],
   "source": [
    "type(getval)"
   ]
  },
  {
   "cell_type": "code",
   "execution_count": null,
   "metadata": {},
   "outputs": [],
   "source": [
    "li = [1,2,3,4,5]\n",
    "getval(li)"
   ]
  },
  {
   "cell_type": "code",
   "execution_count": null,
   "metadata": {},
   "outputs": [],
   "source": [
    "operator.itemgetter(-2)(li)"
   ]
  },
  {
   "cell_type": "code",
   "execution_count": null,
   "metadata": {},
   "outputs": [],
   "source": [
    "inventory = [('apple', 3), ('banana', 2), ('pear', 5), ('orange', 1)]\n",
    "getcount = operator.itemgetter(1)\n",
    "\n",
    "# getcount(inventory)\n",
    "# sorted(inventory)\n",
    "# sorted(inventory, key=getcount)\n",
    "\n",
    "# inventory.sort(key= lambda x: x[1])\n",
    "inventory.sort(key=getcount)"
   ]
  },
  {
   "cell_type": "code",
   "execution_count": null,
   "metadata": {},
   "outputs": [],
   "source": [
    "inventory"
   ]
  },
  {
   "cell_type": "code",
   "execution_count": null,
   "metadata": {},
   "outputs": [],
   "source": [
    "import operator\n",
    "flights.sort(key=operator.itemgetter(4, 1, 0))\n",
    "flights"
   ]
  },
  {
   "cell_type": "code",
   "execution_count": null,
   "metadata": {},
   "outputs": [],
   "source": [
    "# help(operator)"
   ]
  },
  {
   "cell_type": "markdown",
   "metadata": {},
   "source": [
    "### Filter is a certain way to do list comprehension ###\n",
    "\n",
    "> *filter(function, sequence)* returns a sequence consisting of those items from the sequence for which *function(item)* is true"
   ]
  },
  {
   "cell_type": "code",
   "execution_count": null,
   "metadata": {},
   "outputs": [],
   "source": []
  },
  {
   "cell_type": "code",
   "execution_count": null,
   "metadata": {},
   "outputs": [],
   "source": [
    "numbers = [1, 2, 3, 4, 5, 6, 7, 8, 9, 10]\n",
    "\n",
    "# def check_even(number):\n",
    "#     if number % 2 == 0:\n",
    "#           return True  \n",
    "#     return False\n",
    "\n",
    "def check_even(number):\n",
    "    return True if number % 2 == 0 else False\n",
    "\n",
    "li = []\n",
    "for val in numbers:\n",
    "    if check_even(val):\n",
    "        li.append(val)"
   ]
  },
  {
   "cell_type": "code",
   "execution_count": null,
   "metadata": {},
   "outputs": [],
   "source": [
    "li"
   ]
  },
  {
   "cell_type": "code",
   "execution_count": null,
   "metadata": {},
   "outputs": [],
   "source": [
    "li = [val for val in numbers if check_even(val)]"
   ]
  },
  {
   "cell_type": "code",
   "execution_count": null,
   "metadata": {},
   "outputs": [],
   "source": [
    "print(li)"
   ]
  },
  {
   "cell_type": "code",
   "execution_count": null,
   "metadata": {},
   "outputs": [],
   "source": [
    "numbers = [1, 2, 3, 4, 5, 6, 7, 8, 9, 10]\n",
    "\n",
    "# returns True if number is even\n",
    "def check_even(number):\n",
    "    if number % 2 == 0:\n",
    "          return True  \n",
    "    return False\n",
    "\n",
    "# Extract elements from the numbers list for which check_even() returns True\n",
    "# even_numbers_iterator = filter(check_even, numbers)\n",
    "\n",
    "# print(even_numbers_iterator) \n",
    "# # # converting to list\n",
    "# even_numbers = list(even_numbers_iterator)\n",
    "\n",
    "# print(even_numbers)\n",
    "\n",
    "list(filter(check_even, numbers))\n",
    "# Output: [2, 4, 6, 8, 10]"
   ]
  },
  {
   "cell_type": "code",
   "execution_count": null,
   "metadata": {},
   "outputs": [],
   "source": [
    "list(filter(lambda x: x % 2 == 0, numbers))"
   ]
  },
  {
   "cell_type": "code",
   "execution_count": null,
   "metadata": {},
   "outputs": [],
   "source": [
    "def filter1(func, seq):\n",
    "    for s in seq:\n",
    "        if func(s):\n",
    "            yield s"
   ]
  },
  {
   "cell_type": "code",
   "execution_count": null,
   "metadata": {},
   "outputs": [],
   "source": [
    "list(filter1(check_even, numbers))"
   ]
  },
  {
   "cell_type": "code",
   "execution_count": null,
   "metadata": {},
   "outputs": [],
   "source": [
    "mylist=[num for num in range(101) if (num & 2) and (num & 1) and (num % 11 != 0.0)]\n",
    "print(mylist)"
   ]
  },
  {
   "cell_type": "code",
   "execution_count": null,
   "metadata": {},
   "outputs": [],
   "source": [
    "def f(num): return (num & 2) and (num & 1) and (num % 11 != 0.0)\n",
    "\n",
    "\n",
    "mylist = list(filter(f,range(101)))\n",
    "print(mylist)"
   ]
  },
  {
   "cell_type": "code",
   "execution_count": null,
   "metadata": {},
   "outputs": [],
   "source": [
    "mylist = list(filter(lambda num: (num & 2) and (num & 1) and (num % 11 != 0.0),range(101)))\n",
    "print(mylist)"
   ]
  },
  {
   "cell_type": "markdown",
   "metadata": {},
   "source": [
    "if the input is a string, so is the output..."
   ]
  },
  {
   "cell_type": "markdown",
   "metadata": {},
   "source": [
    "[back]\n",
    "### Map is just another way to do list comprehension ###"
   ]
  },
  {
   "cell_type": "code",
   "execution_count": null,
   "metadata": {},
   "outputs": [],
   "source": [
    "def timesthree(x): return x*3\n",
    "\n",
    "list(map(timesthree,\"spam\"))"
   ]
  },
  {
   "cell_type": "code",
   "execution_count": null,
   "metadata": {},
   "outputs": [],
   "source": [
    "list(map(lambda x : x*3 , range(1,11)))"
   ]
  },
  {
   "cell_type": "markdown",
   "metadata": {},
   "source": [
    "### Reduce returns one value ###\n",
    "\n",
    "reduce(function, sequence) returns a single value constructed by calling the binary function on the first two items of the sequence, then on the result and the next item, and so on"
   ]
  },
  {
   "cell_type": "code",
   "execution_count": null,
   "metadata": {},
   "outputs": [],
   "source": [
    "from functools import reduce\n",
    "\n",
    "# sum from 1 to 10\n",
    "reduce(lambda x,y: x + y, range(1,11))   "
   ]
  },
  {
   "cell_type": "code",
   "execution_count": null,
   "metadata": {},
   "outputs": [],
   "source": [
    "reduce(lambda x, y: x + y, ['h', 'e', 'l', 'l', 'o'])"
   ]
  },
  {
   "cell_type": "code",
   "execution_count": null,
   "metadata": {},
   "outputs": [],
   "source": [
    "reduce(lambda x,y: x + y, range(11,1,-1)) "
   ]
  },
  {
   "cell_type": "code",
   "execution_count": null,
   "metadata": {},
   "outputs": [],
   "source": [
    "# reduce?"
   ]
  },
  {
   "cell_type": "code",
   "execution_count": null,
   "metadata": {},
   "outputs": [],
   "source": [
    "# sum() is a built in function...it’s bound to be faster\n",
    "# %timeit sum(range(1,11))\n",
    "sum(range(1,11))"
   ]
  },
  {
   "cell_type": "code",
   "execution_count": null,
   "metadata": {},
   "outputs": [],
   "source": [
    "sum([1,2,3,4,5,6,7, 8,9,10])"
   ]
  },
  {
   "cell_type": "code",
   "execution_count": null,
   "metadata": {},
   "outputs": [],
   "source": [
    "# problem : ['a', 'b', 'c', 'd']\n",
    "\n",
    "#ans : {'a':{'b':{'c':{'d':{}}}}}\n",
    "\n",
    "li = ['a', 'b', 'c', 'd']\n",
    "print(list(reversed(li + [dict()])))\n",
    "\n",
    "reduce(lambda x, y: {y:x}, reversed(li+[dict()]))"
   ]
  },
  {
   "cell_type": "markdown",
   "metadata": {},
   "source": [
    "###  `zip()` ###\n",
    "\n",
    "built in function to pairwise concatenate items in iterables into a list of tuples"
   ]
  },
  {
   "cell_type": "code",
   "execution_count": null,
   "metadata": {},
   "outputs": [],
   "source": [
    "list(zip([\"I\",\"you\",\"them\"],[\"=spam\",\"=eggs\",\"=dark knights\"]))"
   ]
  },
  {
   "cell_type": "code",
   "execution_count": null,
   "metadata": {},
   "outputs": [],
   "source": [
    "list(zip([\"I\",\"you\",\"them\"],[\"=spam\",\"=eggs\",\"=dark knights\"],[\"!\",\"?\",\"#\"]))"
   ]
  },
  {
   "cell_type": "code",
   "execution_count": null,
   "metadata": {},
   "outputs": [],
   "source": [
    "a = list(zip([\"I\",\"you\",\"them\"],[\"=spam\",\"=eggs\",\"=dark knights\"],[\"!\",\"?\",\"hello\",\"blah\"]))"
   ]
  },
  {
   "cell_type": "code",
   "execution_count": null,
   "metadata": {},
   "outputs": [],
   "source": [
    "a"
   ]
  },
  {
   "cell_type": "code",
   "execution_count": null,
   "metadata": {},
   "outputs": [],
   "source": [
    "for tu in a:\n",
    "    print(\" \".join(tu))"
   ]
  },
  {
   "cell_type": "code",
   "execution_count": null,
   "metadata": {},
   "outputs": [],
   "source": [
    "questions = ['name', 'quest', 'favorite color']\n",
    "answers = ['lancelot', 'the holy grail', 'blue']\n",
    "for a,q in zip(questions, answers):\n",
    "    print('What is your %s?  It is %s' % (a,q))"
   ]
  },
  {
   "cell_type": "markdown",
   "metadata": {},
   "source": [
    "not to be confused with `zipfile` module which exposes file compression "
   ]
  },
  {
   "cell_type": "markdown",
   "metadata": {
    "collapsed": true
   },
   "source": [
    "# try, except, finally\n",
    "\n",
    " - Billy: Let's keep going with \"Airplanes\", for \\$200.\n",
    " - Bobby Wheat: \"Airplanes\" for \\$200: \"And what is the Deal With the Black Box?\" \n",
    " - [ Tommy buzzes in ] Tommy!\n",
    " - Tommy: It's the only thing that survives the crash - why don't they build the whole plane out of the Black Box!\n",
    "\n",
    "http://snltranscripts.jt.org/91/91rstandup.phtml\n",
    "\n",
    "http://www.nbc.com/saturday-night-live/video/standup-and-win/2868123\n"
   ]
  },
  {
   "cell_type": "markdown",
   "metadata": {},
   "source": [
    "### Wrap volatile code in try/except/finally\n",
    "\n",
    "instead of ..."
   ]
  },
  {
   "cell_type": "code",
   "execution_count": null,
   "metadata": {},
   "outputs": [],
   "source": [
    "tmp = input(\"Enter a number and I'll square it: \") ; print(float(tmp)**2)"
   ]
  },
  {
   "cell_type": "markdown",
   "metadata": {},
   "source": [
    "do this..."
   ]
  },
  {
   "cell_type": "code",
   "execution_count": null,
   "metadata": {},
   "outputs": [],
   "source": [
    "def f():\n",
    "    try:\n",
    "       tmp = input(\"Enter a number and I'll square it: \")\n",
    "       print(float(tmp)**2)\n",
    "    except ValueError as err:\n",
    "        print(\"dude. I asked you for a number and '%s' is not a number.\" % tmp)\n",
    "        print(f\"the error is '{err}'\")\n",
    "    finally:\n",
    "       print(\"thanks for playing!\")"
   ]
  },
  {
   "cell_type": "code",
   "execution_count": null,
   "metadata": {},
   "outputs": [],
   "source": [
    "f()"
   ]
  },
  {
   "cell_type": "markdown",
   "metadata": {},
   "source": [
    "#### Wrap volatile code in try/except/finally\n",
    "\n",
    "```python\n",
    "try:\n",
    "   # volatile stuff here\n",
    "   tmp = raw_input(\"Enter a number “ + \\\n",
    "                   and I'll square it: \")\n",
    "   print(float(tmp)**2)\n",
    "except:\n",
    "   # upon error, jump here inside except and execute that code\n",
    "   print(\"dude. I asked you for a number and \" + \\\n",
    "    \"%s is not a number.\" % tmp)\n",
    "finally:\n",
    "   # regardless of whether you hit an error, execute everything inside the finally block\n",
    "   print(\"thanks for playing!\")\n",
    "```\n"
   ]
  },
  {
   "cell_type": "code",
   "execution_count": null,
   "metadata": {},
   "outputs": [],
   "source": [
    "try:\n",
    "  joes = \"12:00\"\n",
    "  print(\"eat at %s\" % joes)    # %s is missing for format\n",
    "except:\n",
    "    print(\"check formating , there is error DUDE!!\")\n",
    "finally:\n",
    "  print(\"bye.\") "
   ]
  },
  {
   "cell_type": "markdown",
   "metadata": {},
   "source": [
    " - errors in Python generate what are called “exceptions”\n",
    " - exceptions can be handled differently depending on what kind of exception they are (we’ll see more of that later)\n",
    " - except “catches” these exceptions\n",
    " - you do not have to catch exceptions (try/finally) is allowed. Finally block is executed no matter what!"
   ]
  },
  {
   "cell_type": "markdown",
   "metadata": {},
   "source": [
    "# exec & eval\n",
    "\n",
    "`exec` is a statement which executes strings as if they were Python code "
   ]
  },
  {
   "cell_type": "code",
   "execution_count": null,
   "metadata": {},
   "outputs": [],
   "source": [
    "a = \"print('checkit')\"\n",
    "print(a)"
   ]
  },
  {
   "cell_type": "code",
   "execution_count": null,
   "metadata": {},
   "outputs": [],
   "source": [
    "exec(a)"
   ]
  },
  {
   "cell_type": "code",
   "execution_count": null,
   "metadata": {},
   "outputs": [],
   "source": [
    "a = \"x = 4.5601\" "
   ]
  },
  {
   "cell_type": "code",
   "execution_count": null,
   "metadata": {},
   "outputs": [],
   "source": [
    "exec(a)"
   ]
  },
  {
   "cell_type": "code",
   "execution_count": null,
   "metadata": {},
   "outputs": [],
   "source": [
    "print(x)"
   ]
  },
  {
   "cell_type": "code",
   "execution_count": null,
   "metadata": {},
   "outputs": [],
   "source": [
    "exec(\"del x\")"
   ]
  },
  {
   "cell_type": "code",
   "execution_count": null,
   "metadata": {},
   "outputs": [],
   "source": [
    "print(x)"
   ]
  },
  {
   "cell_type": "code",
   "execution_count": null,
   "metadata": {},
   "outputs": [],
   "source": []
  },
  {
   "cell_type": "markdown",
   "metadata": {},
   "source": [
    "- dynamically create Python code (!)\n",
    "- execute that code w/ implications for current namespace"
   ]
  },
  {
   "cell_type": "code",
   "execution_count": null,
   "metadata": {},
   "outputs": [],
   "source": [
    "import math\n",
    "while True:\n",
    "    bi = input(\"what built in function would you like me to coopt? \")\n",
    "    if bi in ('?',\"\",'end'):\n",
    "        break\n",
    "    nn = input(\"what new name would you like to give it? \")\n",
    "    exec(\"%s = %s\" % (nn,bi))"
   ]
  },
  {
   "cell_type": "code",
   "execution_count": null,
   "metadata": {},
   "outputs": [],
   "source": [
    "ma.pi"
   ]
  },
  {
   "cell_type": "code",
   "execution_count": null,
   "metadata": {},
   "outputs": [],
   "source": [
    "data = '''a = [\n",
    "    {\n",
    "        \"color\": \"red\",\n",
    "        \"value\": \"#f00\"\n",
    "    } ]'''"
   ]
  },
  {
   "cell_type": "code",
   "execution_count": null,
   "metadata": {},
   "outputs": [],
   "source": [
    "data"
   ]
  },
  {
   "cell_type": "code",
   "execution_count": null,
   "metadata": {},
   "outputs": [],
   "source": [
    "exec(data)"
   ]
  },
  {
   "cell_type": "code",
   "execution_count": null,
   "metadata": {},
   "outputs": [],
   "source": [
    "a[0]['color']"
   ]
  },
  {
   "cell_type": "markdown",
   "metadata": {},
   "source": [
    "`eval` is an expression which evaluates strings as Python expressions "
   ]
  },
  {
   "cell_type": "code",
   "execution_count": null,
   "metadata": {},
   "outputs": [],
   "source": [
    "x = \"5\"\n",
    "print(type(x))"
   ]
  },
  {
   "cell_type": "code",
   "execution_count": null,
   "metadata": {},
   "outputs": [],
   "source": [
    "x = eval('5')  ; print(x, type(x))             # x <- 5\n",
    "x = eval('%d + 6' % x)  ; print(x)   # x <- 11\n",
    "x = eval('abs(%d)' % -100) ; print(x) # x <- 100"
   ]
  },
  {
   "cell_type": "code",
   "execution_count": null,
   "metadata": {},
   "outputs": [],
   "source": [
    "'abs(%d)' % -100"
   ]
  },
  {
   "cell_type": "code",
   "execution_count": null,
   "metadata": {},
   "outputs": [],
   "source": [
    "eval('if 1: x = 4') # INVALID; if is a statement, not an expression."
   ]
  },
  {
   "cell_type": "code",
   "execution_count": null,
   "metadata": {},
   "outputs": [],
   "source": [
    "exec('if 1: x = 4') "
   ]
  },
  {
   "cell_type": "code",
   "execution_count": null,
   "metadata": {},
   "outputs": [],
   "source": [
    "x"
   ]
  },
  {
   "cell_type": "markdown",
   "metadata": {},
   "source": [
    "# assert"
   ]
  },
  {
   "cell_type": "markdown",
   "metadata": {},
   "source": [
    "### Syntax"
   ]
  },
  {
   "cell_type": "markdown",
   "metadata": {},
   "source": [
    "`assert condition [, Error Message] `"
   ]
  },
  {
   "cell_type": "markdown",
   "metadata": {},
   "source": [
    " a simple assert statement."
   ]
  },
  {
   "cell_type": "code",
   "execution_count": null,
   "metadata": {},
   "outputs": [],
   "source": [
    "x = 10\n",
    "assert x > 0 \n",
    "print('x is a positive number.')"
   ]
  },
  {
   "cell_type": "markdown",
   "metadata": {},
   "source": [
    "In the above example, the assert condition, `x > 0` evalutes to be True, so it will continue to execute the next statement without any error.\n",
    "\n"
   ]
  },
  {
   "cell_type": "markdown",
   "metadata": {},
   "source": [
    "The assert statement can optionally include an error message string, which gets displayed along with the `AssertionError `. Consider the following assert statement with the error message.\n",
    "\n",
    "It does not execute `print('x is a positive number.')` statement."
   ]
  },
  {
   "cell_type": "code",
   "execution_count": null,
   "metadata": {},
   "outputs": [],
   "source": [
    "x = int(input(\"enter +ve number: \"))\n",
    "# x = 0\n",
    "try:\n",
    "    assert x > 0, 'Only positive numbers are allowed'     # assert condition is false, so it will raise error\n",
    "except AssertionError as err:\n",
    "    print(err)\n",
    "finally:\n",
    "    print('x is a positive number.')"
   ]
  },
  {
   "cell_type": "markdown",
   "metadata": {},
   "source": [
    "The assert statement in the function.\n"
   ]
  },
  {
   "cell_type": "code",
   "execution_count": null,
   "metadata": {},
   "outputs": [],
   "source": [
    "def square(x):\n",
    "    assert x>=0, 'Only positive numbers are allowed'\n",
    "    return x*x\n",
    "# \n",
    "# n = square(2) ; print(n)  # returns 4\n",
    "n = square(-2) ; print(n) # raise an AssertionError"
   ]
  },
  {
   "cell_type": "markdown",
   "metadata": {},
   "source": [
    "Above, `square(2)` will `return 4`, whereas `square(-2)` will raise an `AssertionError` because we passed -2."
   ]
  },
  {
   "cell_type": "markdown",
   "metadata": {},
   "source": [
    "The AssertionError is also a `built-in exception` that can be handled using `try-except` construct as shown below:"
   ]
  },
  {
   "cell_type": "code",
   "execution_count": null,
   "metadata": {},
   "outputs": [],
   "source": [
    "def square(x):\n",
    "    assert x>=0, 'Only positive numbers are allowed'\n",
    "    return x*x\n",
    "\n",
    "try:\n",
    "    a = square(-2)\n",
    "    print(a)\n",
    "except AssertionError as err:\n",
    "    print(err)"
   ]
  },
  {
   "cell_type": "code",
   "execution_count": null,
   "metadata": {},
   "outputs": [],
   "source": []
  },
  {
   "cell_type": "markdown",
   "metadata": {
    "collapsed": true
   },
   "source": [
    "# Breakout\n",
    "\n",
    "Write a code which generates python code that approximates the function:\n",
    "$$x^2 + x$$\n",
    "\n",
    "<u>hints:</u>\n",
    "\n",
    "- randomly generate `lambda` functions using a restricted vocabulary: \n",
    "    `voc =[\"x\",\"x\",\" \",\"+\",\"-\",\"*\",\"/\",\"1\",\"2\",\"3\"]`\n",
    "\n",
    "- evaluate these `lambda` functions at a fix number of x values and save the difference between those answers and `x**2 + x`\n",
    "\n",
    "- catch errors!\n",
    "\n",
    "- start with a file like:\n",
    "\n",
    "```python\n",
    "import random\n",
    "import numpy\n",
    "\n",
    "voc =[\"x\",\"x\",\" \",\"+\",\"-\",\"*\",\"/\",\"1\",\"2\",\"3\"]\n",
    "\n",
    "nfunc       = 1000000\n",
    "maxchars = 10  # max how many characters to gen\n",
    "eval_places = numpy.arange(-3,3,0.4)\n",
    "sin_val     = eval_places**2 + eval_places\n",
    "tries       = []\n",
    "for loop...\n",
    "```\n"
   ]
  },
  {
   "cell_type": "code",
   "execution_count": null,
   "metadata": {},
   "outputs": [],
   "source": []
  }
 ],
 "metadata": {
  "kernelspec": {
   "display_name": "Python 3 (ipykernel)",
   "language": "python",
   "name": "python3"
  },
  "language_info": {
   "codemirror_mode": {
    "name": "ipython",
    "version": 3
   },
   "file_extension": ".py",
   "mimetype": "text/x-python",
   "name": "python",
   "nbconvert_exporter": "python",
   "pygments_lexer": "ipython3",
   "version": "3.9.13"
  }
 },
 "nbformat": 4,
 "nbformat_minor": 1
}
