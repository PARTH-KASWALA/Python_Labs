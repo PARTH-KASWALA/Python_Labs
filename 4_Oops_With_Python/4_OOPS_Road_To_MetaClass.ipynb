{
 "cells": [
  {
   "cell_type": "markdown",
   "id": "b4517ab8",
   "metadata": {},
   "source": [
    "#### In this chapter of our tutorial we want to provide some incentives or motivation for the use of metaclasses. To demonstrate some design problems, which can be solved by metaclasses, we will introduce and design a bunch of philosopher classes. Each philosopher class (Philosopher1, Philosopher2, and so on) need the same \"set\" of methods (in our example just one, i.e. \"the_answer\") "
   ]
  },
  {
   "cell_type": "code",
   "execution_count": 1,
   "id": "b3b6aaa4",
   "metadata": {},
   "outputs": [],
   "source": [
    "class Philosopher1(object): \n",
    "    \n",
    "    def the_answer(self, *args):              \n",
    "        return 42\n",
    "\n",
    "class Philosopher2(object): \n",
    "\n",
    "    def the_answer(self, *args):              \n",
    "        return 42\n",
    "\n",
    "class Philosopher3(object): \n",
    "\n",
    "    def the_answer(self, *args):              \n",
    "        return 42\n"
   ]
  },
  {
   "cell_type": "code",
   "execution_count": 2,
   "id": "0b6ddb9b",
   "metadata": {},
   "outputs": [
    {
     "name": "stdout",
     "output_type": "stream",
     "text": [
      "42\n",
      "42\n"
     ]
    }
   ],
   "source": [
    "plato = Philosopher1()\n",
    "print (plato.the_answer())\n",
    "\n",
    "kant = Philosopher2()\n",
    "# let's see what Kant has to say :-)\n",
    "print (kant.the_answer())"
   ]
  },
  {
   "cell_type": "raw",
   "id": "61879a44",
   "metadata": {},
   "source": [
    "We can see that we have multiple copies of the method \"the_answer\". This is error prone and tedious to maintain."
   ]
  },
  {
   "cell_type": "raw",
   "id": "1011e140",
   "metadata": {},
   "source": [
    "From what we know so far, the easiest way to accomplish our goal without creating redundant code would be designing a base, which contains \"the_answer\" as a method. Now each Philosopher class inherits from this base class:"
   ]
  },
  {
   "cell_type": "code",
   "execution_count": 5,
   "id": "1a87ba0f",
   "metadata": {},
   "outputs": [],
   "source": [
    "class Answers(object):\n",
    "\n",
    "    def the_answer(self, *args):              \n",
    "        return 42\n",
    "    \n",
    "\n",
    "class Philosopher1(Answers): \n",
    "    pass\n",
    "\n",
    "class Philosopher2(Answers): \n",
    "    pass\n",
    "\n",
    "class Philosopher3(Answers): \n",
    "    pass\n"
   ]
  },
  {
   "cell_type": "code",
   "execution_count": 6,
   "id": "827d710f",
   "metadata": {},
   "outputs": [
    {
     "name": "stdout",
     "output_type": "stream",
     "text": [
      "42\n",
      "42\n"
     ]
    }
   ],
   "source": [
    "plato = Philosopher1()\n",
    "print(plato.the_answer())\n",
    "\n",
    "kant = Philosopher2()\n",
    "# let's see what Kant has to say :-)\n",
    "print(kant.the_answer())"
   ]
  },
  {
   "cell_type": "raw",
   "id": "14b6ea88",
   "metadata": {},
   "source": [
    "The way we have designed our classes, each Philosopher class will always have a method \"the_answer\". Let's assume, we don't know a priori if we want or need this method. Let's assume that the decision, if the classes have to be augmented, can only be made at runtime. This decision might depend on configuration files, user input or some calculations."
   ]
  },
  {
   "cell_type": "code",
   "execution_count": 11,
   "id": "61642a14",
   "metadata": {},
   "outputs": [
    {
     "data": {
      "text/plain": [
       "mappingproxy({'__module__': '__main__',\n",
       "              '__dict__': <attribute '__dict__' of 'hello' objects>,\n",
       "              '__weakref__': <attribute '__weakref__' of 'hello' objects>,\n",
       "              '__doc__': None,\n",
       "              'the_answer': <function __main__.the_answer(self, *args)>})"
      ]
     },
     "execution_count": 11,
     "metadata": {},
     "output_type": "execute_result"
    }
   ],
   "source": [
    "class hello:\n",
    "    pass\n",
    "def the_answer(self, *args):              \n",
    "        return 42\n",
    "    \n",
    "hello.the_answer = the_answer\n",
    "\n",
    "hello.__dict__"
   ]
  },
  {
   "cell_type": "code",
   "execution_count": 12,
   "id": "47a34f31",
   "metadata": {},
   "outputs": [
    {
     "name": "stdout",
     "output_type": "stream",
     "text": [
      "Do you need 'the answer'? (y/n): y\n"
     ]
    }
   ],
   "source": [
    "# the following variable would be set as the result of a runtime calculation:\n",
    "x = input(\"Do you need 'the answer'? (y/n): \")\n",
    "if x==\"y\":\n",
    "    required = True\n",
    "else:\n",
    "    required = False\n",
    "    \n",
    "def the_answer(self, *args):              \n",
    "        return 42\n",
    "\n",
    "class Philosopher1(object): \n",
    "    pass\n",
    "if required:\n",
    "    Philosopher1.the_answer = the_answer\n",
    "\n",
    "class Philosopher2(object): \n",
    "    pass\n",
    "if required:\n",
    "    Philosopher2.the_answer = the_answer\n",
    "\n",
    "class Philosopher3(object): \n",
    "    pass\n",
    "if required:\n",
    "    Philosopher3.the_answer = the_answer"
   ]
  },
  {
   "cell_type": "code",
   "execution_count": 13,
   "id": "e314ecfb",
   "metadata": {},
   "outputs": [
    {
     "name": "stdout",
     "output_type": "stream",
     "text": [
      "42\n",
      "42\n"
     ]
    }
   ],
   "source": [
    "plato = Philosopher1()\n",
    "kant = Philosopher2()\n",
    "# kant.the_answer()\n",
    "# let's see what Plato and Kant have to say :-)\n",
    "if required:\n",
    "    print(kant.the_answer())\n",
    "    print(plato.the_answer()) \n",
    "else:\n",
    "    print(\"The silence of the philosphers\")"
   ]
  },
  {
   "cell_type": "raw",
   "id": "04cc4a3c",
   "metadata": {},
   "source": [
    "Even though this is another solution to our problem, there are still some serious drawbacks. It's error-prone, because we have to add the same code to every class and it seems likely that we might forget it. Besides this it's getting hardly manageable and maybe even confusing, if there are many methods we want to add.\n",
    "\n",
    "We can improve our approach by defining a manager function and avoiding redundant code this way. The manager function will be used to augment the classes conditionally."
   ]
  },
  {
   "cell_type": "code",
   "execution_count": 14,
   "id": "16154edc",
   "metadata": {},
   "outputs": [
    {
     "name": "stdout",
     "output_type": "stream",
     "text": [
      "Do you need 'the answer'? (y/n): y\n"
     ]
    }
   ],
   "source": [
    "# the following variable would be set as the result of a runtime calculation:\n",
    "x = input(\"Do you need 'the answer'? (y/n): \")\n",
    "if x==\"y\":\n",
    "    required = True\n",
    "else:\n",
    "    required = False\n",
    "    \n",
    "\n",
    "def the_answer(self, *args):              \n",
    "        return 42\n",
    "\n",
    "# manager function\n",
    "def augment_answer(cls):                      \n",
    "    if required:\n",
    "        cls.the_answer = the_answer\n",
    "        \n",
    "    \n",
    "class Philosopher1(object): \n",
    "    pass\n",
    "augment_answer(Philosopher1)\n",
    "\n",
    "class Philosopher2(object): \n",
    "    pass\n",
    "augment_answer(Philosopher2)\n",
    "\n",
    "class Philosopher3(object): \n",
    "    pass\n",
    "augment_answer(Philosopher3)\n"
   ]
  },
  {
   "cell_type": "code",
   "execution_count": 15,
   "id": "cca09daf",
   "metadata": {},
   "outputs": [
    {
     "name": "stdout",
     "output_type": "stream",
     "text": [
      "42\n",
      "42\n"
     ]
    }
   ],
   "source": [
    "plato = Philosopher1()\n",
    "kant = Philosopher2()\n",
    "\n",
    "# let's see what Plato and Kant have to say :-)\n",
    "if required:\n",
    "    print(kant.the_answer())\n",
    "    print(plato.the_answer())\n",
    "else:\n",
    "    print(\"The silence of the philosphers\")"
   ]
  },
  {
   "cell_type": "raw",
   "id": "e42cc3e9",
   "metadata": {},
   "source": [
    "This is again useful to solve our problem, but we, i.e. the class designers, must be careful not to forget to call the manager function \"augment_answer\". The code should be executed automatically. We need a way to make sure that \"some\" code might be executed automatically after the end of a class definition."
   ]
  },
  {
   "cell_type": "code",
   "execution_count": 13,
   "id": "d92e35d8",
   "metadata": {},
   "outputs": [],
   "source": [
    "def make_pretty(func):\n",
    "    def inner():\n",
    "        print(\"I got decorated\")\n",
    "        func()\n",
    "    return inner\n",
    "\n",
    "@make_pretty\n",
    "def ordinary():\n",
    "    print(\"I am ordinary\")\n"
   ]
  },
  {
   "cell_type": "code",
   "execution_count": 14,
   "id": "554fa60b",
   "metadata": {},
   "outputs": [
    {
     "name": "stdout",
     "output_type": "stream",
     "text": [
      "I got decorated\n",
      "I am ordinary\n"
     ]
    }
   ],
   "source": [
    "ordinary()"
   ]
  },
  {
   "cell_type": "code",
   "execution_count": 18,
   "id": "2dc50939",
   "metadata": {},
   "outputs": [
    {
     "name": "stdout",
     "output_type": "stream",
     "text": [
      "3.0\n"
     ]
    }
   ],
   "source": [
    "def smart_cal(func):\n",
    "    def inner(a, b):\n",
    "        if b == 0:\n",
    "            return f\"We cannot divide value by zero..\"\n",
    "#             b, a = a, b\n",
    "        return func(a, b)\n",
    "    return inner\n",
    "\n",
    "@smart_cal\n",
    "def divide(a, b):\n",
    "    return a/b\n",
    "\n",
    "val = divide(6, 2)\n",
    "print(val)"
   ]
  },
  {
   "cell_type": "code",
   "execution_count": 16,
   "id": "92378edc",
   "metadata": {},
   "outputs": [
    {
     "name": "stdout",
     "output_type": "stream",
     "text": [
      "Do you need 'the answer'? (y/n): y\n"
     ]
    }
   ],
   "source": [
    "# the following variable would be set as the result of a runtime calculation:\n",
    "x = input(\"Do you need 'the answer'? (y/n): \")\n",
    "if x==\"y\":\n",
    "    required = True\n",
    "else:\n",
    "    required = False\n",
    "\n",
    "def the_answer(self, *args):\n",
    "    return 42\n",
    "\n",
    "def augment_answer(cls):                      \n",
    "    if required:\n",
    "        cls.the_answer = the_answer\n",
    "    # we have to return the class now:\n",
    "    return cls\n",
    "        \n",
    "@augment_answer\n",
    "class Philosopher1(object): \n",
    "    pass\n",
    "\n",
    "@augment_answer\n",
    "class Philosopher2(object): \n",
    "    pass\n",
    "\n",
    "@augment_answer\n",
    "class Philosopher3(object): \n",
    "    pass\n",
    "    "
   ]
  },
  {
   "cell_type": "code",
   "execution_count": 17,
   "id": "5aa2aafd",
   "metadata": {},
   "outputs": [
    {
     "name": "stdout",
     "output_type": "stream",
     "text": [
      "42\n",
      "42\n"
     ]
    }
   ],
   "source": [
    "plato = Philosopher1()\n",
    "kant = Philosopher2()\n",
    "    \n",
    "# let's see what Plato and Kant have to say :-)\n",
    "if required:\n",
    "    print(kant.the_answer())\n",
    "    print(plato.the_answer())\n",
    "else:\n",
    "    print(\"The silence of the philosphers\")\n"
   ]
  },
  {
   "cell_type": "code",
   "execution_count": null,
   "id": "faba3bd5",
   "metadata": {},
   "outputs": [],
   "source": []
  }
 ],
 "metadata": {
  "kernelspec": {
   "display_name": "Python 3 (ipykernel)",
   "language": "python",
   "name": "python3"
  },
  "language_info": {
   "codemirror_mode": {
    "name": "ipython",
    "version": 3
   },
   "file_extension": ".py",
   "mimetype": "text/x-python",
   "name": "python",
   "nbconvert_exporter": "python",
   "pygments_lexer": "ipython3",
   "version": "3.9.13"
  }
 },
 "nbformat": 4,
 "nbformat_minor": 5
}
