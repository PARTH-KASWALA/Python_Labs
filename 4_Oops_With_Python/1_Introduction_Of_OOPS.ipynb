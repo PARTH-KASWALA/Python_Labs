{
 "cells": [
  {
   "cell_type": "markdown",
   "id": "29c4ffd8",
   "metadata": {},
   "source": [
    "<img src=\"fruit_300w.webp\"> <h1> Object Oriented Programming with Python </h1>"
   ]
  },
  {
   "cell_type": "code",
   "execution_count": null,
   "id": "c323be18",
   "metadata": {},
   "outputs": [],
   "source": [
    "x = 42\n",
    "print(type(x))\n",
    "x.bit_length()"
   ]
  },
  {
   "cell_type": "code",
   "execution_count": null,
   "id": "7be7d444",
   "metadata": {},
   "outputs": [],
   "source": [
    "help(int)"
   ]
  },
  {
   "cell_type": "code",
   "execution_count": null,
   "id": "a3793617",
   "metadata": {},
   "outputs": [],
   "source": [
    "x.denominator"
   ]
  },
  {
   "cell_type": "code",
   "execution_count": null,
   "id": "f2341b9c",
   "metadata": {},
   "outputs": [],
   "source": [
    "help(int)"
   ]
  },
  {
   "cell_type": "code",
   "execution_count": null,
   "id": "c437d46f",
   "metadata": {},
   "outputs": [],
   "source": [
    "bin(x)"
   ]
  },
  {
   "cell_type": "code",
   "execution_count": null,
   "id": "47b02d02",
   "metadata": {},
   "outputs": [],
   "source": [
    "y = 4.34\n",
    "print(type(y))"
   ]
  },
  {
   "cell_type": "code",
   "execution_count": null,
   "id": "d427596b",
   "metadata": {},
   "outputs": [],
   "source": [
    "help(float)"
   ]
  },
  {
   "cell_type": "code",
   "execution_count": null,
   "id": "7be63a02",
   "metadata": {},
   "outputs": [],
   "source": [
    "def f(x):\n",
    "    return x + 1\n",
    "\n",
    "print(type(f))"
   ]
  },
  {
   "cell_type": "code",
   "execution_count": null,
   "id": "f1d711d0",
   "metadata": {},
   "outputs": [],
   "source": [
    "import math\n",
    "print(type(math))"
   ]
  },
  {
   "cell_type": "code",
   "execution_count": null,
   "id": "d73f80ed",
   "metadata": {},
   "outputs": [],
   "source": [
    "print(type(len))"
   ]
  },
  {
   "cell_type": "markdown",
   "id": "bbc43ab1",
   "metadata": {},
   "source": [
    "### A Minimal Class in Python"
   ]
  },
  {
   "cell_type": "markdown",
   "id": "e6638a33",
   "metadata": {},
   "source": [
    "We will design and use a robot class in Python as an example to demonstrate the most important terms and ideas of object orientation. We will start with the simplest class in Python."
   ]
  },
  {
   "cell_type": "code",
   "execution_count": null,
   "id": "06824666",
   "metadata": {},
   "outputs": [],
   "source": [
    "class Robot:\n",
    "    pass\n",
    "\n",
    "\n",
    "x = Robot()\n",
    "y = Robot()\n",
    "\n",
    "y2 = y\n",
    "print(y == y2)\n",
    "print(y == x)\n"
   ]
  },
  {
   "cell_type": "code",
   "execution_count": null,
   "id": "ed8d7527",
   "metadata": {},
   "outputs": [],
   "source": [
    "print(type(x))"
   ]
  },
  {
   "cell_type": "code",
   "execution_count": null,
   "id": "07a7424a",
   "metadata": {},
   "outputs": [],
   "source": [
    "print(type(Robot))"
   ]
  },
  {
   "cell_type": "code",
   "execution_count": null,
   "id": "dd8a6c6b",
   "metadata": {},
   "outputs": [],
   "source": [
    "print(x)"
   ]
  },
  {
   "cell_type": "code",
   "execution_count": null,
   "id": "03882bf4",
   "metadata": {},
   "outputs": [],
   "source": [
    "print(x); print(y); print(y2)"
   ]
  },
  {
   "cell_type": "code",
   "execution_count": null,
   "id": "31791af4",
   "metadata": {},
   "outputs": [],
   "source": []
  },
  {
   "cell_type": "markdown",
   "id": "2b66d881",
   "metadata": {},
   "source": [
    "### Attributes"
   ]
  },
  {
   "cell_type": "code",
   "execution_count": null,
   "id": "29cefce6",
   "metadata": {},
   "outputs": [],
   "source": [
    "class Robot:\n",
    "    pass"
   ]
  },
  {
   "cell_type": "code",
   "execution_count": null,
   "id": "6a3118ba",
   "metadata": {},
   "outputs": [],
   "source": [
    "x = Robot()\n",
    "y = Robot()"
   ]
  },
  {
   "cell_type": "code",
   "execution_count": null,
   "id": "fe7693a0",
   "metadata": {},
   "outputs": [],
   "source": [
    "x.name = \"Marvin\"\n",
    "x.build_year = \"1979\"\n",
    " \n",
    "y.name = \"Caliban\"\n",
    "y.build_year = \"1993\"\n"
   ]
  },
  {
   "cell_type": "code",
   "execution_count": null,
   "id": "0ffee2a5",
   "metadata": {},
   "outputs": [],
   "source": [
    "print(x.name)\n",
    "print(y.build_year)"
   ]
  },
  {
   "cell_type": "code",
   "execution_count": null,
   "id": "43b79800",
   "metadata": {},
   "outputs": [],
   "source": [
    "help(x)"
   ]
  },
  {
   "cell_type": "raw",
   "id": "e2743f96",
   "metadata": {},
   "source": [
    "The instances possess dictionaries __dict__, which they use to store their attributes and their corresponding values:\n"
   ]
  },
  {
   "cell_type": "code",
   "execution_count": null,
   "id": "95f882e6",
   "metadata": {},
   "outputs": [],
   "source": [
    "x.__dict__"
   ]
  },
  {
   "cell_type": "code",
   "execution_count": null,
   "id": "4aa8ddf5",
   "metadata": {},
   "outputs": [],
   "source": [
    "y.__dict__"
   ]
  },
  {
   "cell_type": "raw",
   "id": "44ae1042",
   "metadata": {},
   "source": [
    "If an attribute name is not in included in the dictionary, the attribute name is not defined. If you try to access a non-existing attribute, you will raise an AttributeError:"
   ]
  },
  {
   "cell_type": "code",
   "execution_count": null,
   "id": "817372f1",
   "metadata": {},
   "outputs": [],
   "source": [
    "x.energy"
   ]
  },
  {
   "cell_type": "raw",
   "id": "0eae924c",
   "metadata": {},
   "source": [
    "By using the function getattr, you can prevent this exception, if you provide a default value as the third argument:"
   ]
  },
  {
   "cell_type": "code",
   "execution_count": null,
   "id": "92d5a167",
   "metadata": {},
   "outputs": [],
   "source": [
    "getattr?"
   ]
  },
  {
   "cell_type": "code",
   "execution_count": null,
   "id": "0cdd2062",
   "metadata": {},
   "outputs": [],
   "source": [
    "getattr(x, 'energy', \"no energy yet\")"
   ]
  },
  {
   "cell_type": "code",
   "execution_count": null,
   "id": "2007e7f6",
   "metadata": {},
   "outputs": [],
   "source": [
    "getattr(x, 'name', \"no name yet\")"
   ]
  },
  {
   "cell_type": "markdown",
   "id": "d270c87c",
   "metadata": {},
   "source": [
    "### Methods"
   ]
  },
  {
   "cell_type": "code",
   "execution_count": null,
   "id": "a8ef6a3f",
   "metadata": {},
   "outputs": [],
   "source": [
    "def hi(obj):\n",
    "    print(\"Hi, I am \" + obj.name + \"!\")\n",
    "\n",
    "class Robot:\n",
    "    pass\n",
    "    \n",
    "\n",
    "x = Robot()\n",
    "x.name = \"Marvin\"\n",
    "# x\n",
    "\n",
    "hi(x)"
   ]
  },
  {
   "cell_type": "code",
   "execution_count": null,
   "id": "f0905fba",
   "metadata": {},
   "outputs": [],
   "source": [
    "hi(12)"
   ]
  },
  {
   "cell_type": "code",
   "execution_count": null,
   "id": "d8b171b4",
   "metadata": {},
   "outputs": [],
   "source": [
    "class Robot:\n",
    "    robot_version = 2.0\n",
    "    \n",
    "\n",
    "x = Robot()\n",
    "x.name = \"Marvin\"\n",
    "\n",
    "y = Robot()\n",
    "\n",
    "print(x.robot_version)\n",
    "print(y.robot_version)\n",
    "print(Robot.robot_version)"
   ]
  },
  {
   "cell_type": "code",
   "execution_count": null,
   "id": "cf3aeb11",
   "metadata": {},
   "outputs": [],
   "source": [
    "y.name"
   ]
  },
  {
   "cell_type": "code",
   "execution_count": null,
   "id": "61c9c862",
   "metadata": {},
   "outputs": [],
   "source": [
    "x.name"
   ]
  },
  {
   "cell_type": "raw",
   "id": "9883d8be",
   "metadata": {},
   "source": [
    "We will now bind the function „hi“ to a class attribute „say_hi“!\n"
   ]
  },
  {
   "cell_type": "code",
   "execution_count": null,
   "id": "0c4917b4",
   "metadata": {},
   "outputs": [],
   "source": [
    "def hi(obj):\n",
    "        print(\"Hi, I am \" + obj.name)\n",
    "\n",
    "class Robot:\n",
    "    robot_version = 2.0\n",
    "    say_hi = hi\n",
    "    \n",
    "\n",
    "x = Robot()\n",
    "x.name = \"Marvin\"\n",
    "\n",
    "\n",
    "Robot.say_hi(x)\n"
   ]
  },
  {
   "cell_type": "code",
   "execution_count": null,
   "id": "8c6047a3",
   "metadata": {},
   "outputs": [],
   "source": [
    "# \"say_hi\" is called a method. Usually, it will be called like this:\n",
    "\n",
    "x.say_hi()\n"
   ]
  },
  {
   "cell_type": "raw",
   "id": "5e707e09",
   "metadata": {},
   "source": [
    "You saw before that the calls Robot.say_hi(x)\". and \"x.say_hi()\" are equivalent. "
   ]
  },
  {
   "cell_type": "code",
   "execution_count": null,
   "id": "fb990e1a",
   "metadata": {},
   "outputs": [],
   "source": [
    "li = [12, 13]\n",
    "help(list.append)"
   ]
  },
  {
   "cell_type": "code",
   "execution_count": null,
   "id": "212f3f6b",
   "metadata": {},
   "outputs": [],
   "source": [
    "help(li.append)"
   ]
  },
  {
   "cell_type": "code",
   "execution_count": null,
   "id": "22427461",
   "metadata": {},
   "outputs": [],
   "source": [
    "list.append(li, 14) #; print(li)"
   ]
  },
  {
   "cell_type": "code",
   "execution_count": null,
   "id": "10314756",
   "metadata": {},
   "outputs": [],
   "source": [
    "li"
   ]
  },
  {
   "cell_type": "code",
   "execution_count": null,
   "id": "b762230c",
   "metadata": {},
   "outputs": [],
   "source": [
    "help(li.append)"
   ]
  },
  {
   "cell_type": "code",
   "execution_count": null,
   "id": "a67a82b0",
   "metadata": {},
   "outputs": [],
   "source": [
    "li.append(45)"
   ]
  },
  {
   "cell_type": "code",
   "execution_count": null,
   "id": "26f3c187",
   "metadata": {},
   "outputs": [],
   "source": [
    "print(li)"
   ]
  },
  {
   "cell_type": "markdown",
   "id": "50417dcd",
   "metadata": {},
   "source": [
    "## It is possible to define methods like this, but you shouldn't do it.\n",
    "\n",
    "#### The proper way to do it:\n",
    "\n",
    "1) Instead of defining a function outside of a class definition and binding it to a class attribute, we define a - method directly inside (indented) of a class definition.\n",
    "\n",
    "2) A method is \"just\" a function which is defined inside a class.\n",
    "\n",
    "3) The first parameter is used a reference to the calling instance.\n",
    "\n",
    "4) This parameter is usually called self.\n",
    "\n",
    "5) Self corresponds to the Robot object x."
   ]
  },
  {
   "cell_type": "markdown",
   "id": "0305c10e",
   "metadata": {},
   "source": [
    "### We have seen that a method differs from a function only in two aspects:\n",
    "\n",
    "1) It belongs to a class, and it is defined within a class\n",
    "\n",
    "2) The first parameter in the definition of a method has to be a reference to the instance, which called the method. This parameter is usually called \"self\".\n"
   ]
  },
  {
   "cell_type": "markdown",
   "id": "c63d0d14",
   "metadata": {},
   "source": [
    "### The \"__init__\" Method\n"
   ]
  },
  {
   "cell_type": "raw",
   "id": "75c1afca",
   "metadata": {},
   "source": [
    "We want to define the attributes of an instance right after its creation. __init__ is a method which is immediately and automatically called after an instance has been created."
   ]
  },
  {
   "cell_type": "code",
   "execution_count": null,
   "id": "83f270b6",
   "metadata": {},
   "outputs": [],
   "source": [
    "class A:\n",
    "#     pass\n",
    "    def __init__(self):\n",
    "        print(f\"__init__ has been executed! {self}\")\n",
    "\n",
    "x = A() \n",
    "y = A()"
   ]
  },
  {
   "cell_type": "code",
   "execution_count": null,
   "id": "c9c24dea",
   "metadata": {},
   "outputs": [],
   "source": [
    "print(x)"
   ]
  },
  {
   "cell_type": "code",
   "execution_count": null,
   "id": "3f1713b6",
   "metadata": {},
   "outputs": [],
   "source": [
    "x"
   ]
  },
  {
   "cell_type": "code",
   "execution_count": null,
   "id": "1b6aa087",
   "metadata": {},
   "outputs": [],
   "source": [
    "A.__init__(x)"
   ]
  },
  {
   "cell_type": "code",
   "execution_count": null,
   "id": "11fa469c",
   "metadata": {},
   "outputs": [],
   "source": [
    "x.__init__()"
   ]
  },
  {
   "cell_type": "code",
   "execution_count": 60,
   "id": "e094cddf",
   "metadata": {},
   "outputs": [],
   "source": [
    "class Robot:\n",
    "    def __init__(self, name):\n",
    "        self.name = name"
   ]
  },
  {
   "cell_type": "code",
   "execution_count": 61,
   "id": "ea64e35c",
   "metadata": {},
   "outputs": [
    {
     "ename": "TypeError",
     "evalue": "__init__() missing 1 required positional argument: 'name'",
     "output_type": "error",
     "traceback": [
      "\u001b[1;31m---------------------------------------------------------------------------\u001b[0m",
      "\u001b[1;31mTypeError\u001b[0m                                 Traceback (most recent call last)",
      "\u001b[1;32m~\\AppData\\Local\\Temp\\ipykernel_5704\\2012171658.py\u001b[0m in \u001b[0;36m<module>\u001b[1;34m\u001b[0m\n\u001b[1;32m----> 1\u001b[1;33m \u001b[0mx\u001b[0m \u001b[1;33m=\u001b[0m \u001b[0mRobot\u001b[0m\u001b[1;33m(\u001b[0m\u001b[1;33m)\u001b[0m\u001b[1;33m\u001b[0m\u001b[1;33m\u001b[0m\u001b[0m\n\u001b[0m",
      "\u001b[1;31mTypeError\u001b[0m: __init__() missing 1 required positional argument: 'name'"
     ]
    }
   ],
   "source": [
    "x = Robot()"
   ]
  },
  {
   "cell_type": "code",
   "execution_count": 62,
   "id": "d3b37c61",
   "metadata": {},
   "outputs": [],
   "source": [
    "x = Robot(\"Marvin\")"
   ]
  },
  {
   "cell_type": "code",
   "execution_count": 63,
   "id": "17ed50a8",
   "metadata": {},
   "outputs": [
    {
     "data": {
      "text/plain": [
       "'Marvin'"
      ]
     },
     "execution_count": 63,
     "metadata": {},
     "output_type": "execute_result"
    }
   ],
   "source": [
    "x.name"
   ]
  },
  {
   "cell_type": "code",
   "execution_count": 66,
   "id": "726fe53d",
   "metadata": {},
   "outputs": [
    {
     "name": "stdout",
     "output_type": "stream",
     "text": [
      "Hi, I am Marvin\n"
     ]
    }
   ],
   "source": [
    "class Robot:\n",
    " \n",
    "    def __init__(self, name=None):\n",
    "        self.name = name   \n",
    "        \n",
    "    def say_hi(self):\n",
    "        if self.name:\n",
    "            print(\"Hi, I am \" + self.name)\n",
    "        else:\n",
    "            print(\"Hi, I am a robot without a name\")\n",
    "    \n",
    "\n",
    "# x = Robot()\n",
    "# x.say_hi()\n",
    "\n",
    "y = Robot(\"Marvin\")\n",
    "y.say_hi()"
   ]
  },
  {
   "cell_type": "code",
   "execution_count": 67,
   "id": "23629dde",
   "metadata": {},
   "outputs": [],
   "source": [
    "y.name = \"Jovelin\""
   ]
  },
  {
   "cell_type": "code",
   "execution_count": 68,
   "id": "da16bc96",
   "metadata": {},
   "outputs": [
    {
     "data": {
      "text/plain": [
       "'Jovelin'"
      ]
     },
     "execution_count": 68,
     "metadata": {},
     "output_type": "execute_result"
    }
   ],
   "source": [
    "y.name"
   ]
  },
  {
   "cell_type": "code",
   "execution_count": 69,
   "id": "fdb2eb86",
   "metadata": {},
   "outputs": [
    {
     "name": "stdout",
     "output_type": "stream",
     "text": [
      "Hi, I am Jovelin\n"
     ]
    }
   ],
   "source": [
    "y.say_hi()"
   ]
  },
  {
   "cell_type": "code",
   "execution_count": 70,
   "id": "31dde7b2",
   "metadata": {},
   "outputs": [
    {
     "name": "stdout",
     "output_type": "stream",
     "text": [
      "None\n"
     ]
    }
   ],
   "source": [
    "print(x.name)"
   ]
  },
  {
   "cell_type": "markdown",
   "id": "d6a29c4e",
   "metadata": {},
   "source": [
    " ## Data Abstraction, Data Encapsulation, and Information Hiding"
   ]
  },
  {
   "cell_type": "markdown",
   "id": "2465c2d8",
   "metadata": {},
   "source": [
    "Data Abstraction, Data Encapsulation and Information Hiding are often synonymously used in books and tutorials on OOP. However, there is a difference."
   ]
  },
  {
   "cell_type": "markdown",
   "id": "118cdda9",
   "metadata": {},
   "source": [
    " Encapsulation is seen as the bundling of data with the methods that operate on that data."
   ]
  },
  {
   "cell_type": "markdown",
   "id": "626a1289",
   "metadata": {},
   "source": [
    " Information hiding on the other hand is the principle that some internal information or data is \"hidden\", so that it can't be accidentally changed."
   ]
  },
  {
   "cell_type": "markdown",
   "id": "da22355a",
   "metadata": {},
   "source": [
    "Data encapsulation via methods doesn't necessarily mean that the data is hidden. You might be capable of accessing and seeing the data anyway, but using the methods is recommended. "
   ]
  },
  {
   "cell_type": "markdown",
   "id": "f14a9925",
   "metadata": {},
   "source": [
    "Finally, data abstraction is present, if both data hiding and data encapsulation is used. In other words, data abstraction is the broader term:"
   ]
  },
  {
   "cell_type": "markdown",
   "id": "1e5baf62",
   "metadata": {},
   "source": [
    "### Data Abstraction = Data Encapsulation + Data Hiding"
   ]
  },
  {
   "cell_type": "raw",
   "id": "aa30e184",
   "metadata": {},
   "source": [
    "Encapsulation is often accomplished by providing two kinds of methods for attributes: The methods for retrieving or accessing the values of attributes are called getter methods. Getter methods do not change the values of attributes, they just return the values. The methods used for changing the values of attributes are called setter methods."
   ]
  },
  {
   "cell_type": "markdown",
   "id": "86f9cd3d",
   "metadata": {},
   "source": [
    "We will define now a Robot class with a Getter and a Setter for the name attribute. We will call them get_name and set_name accordingly."
   ]
  },
  {
   "cell_type": "code",
   "execution_count": null,
   "id": "ca655616",
   "metadata": {},
   "outputs": [],
   "source": [
    "class Robot:\n",
    " \n",
    "    def __init__(self, name=None):\n",
    "        self.name = name   \n",
    "        \n",
    "    def say_hi(self):\n",
    "        if self.name:\n",
    "            print(\"Hi, I am \" + self.name)\n",
    "        else:\n",
    "            print(\"Hi, I am a robot without a name\")\n",
    "            \n",
    "    def set_name(self, name):\n",
    "        self.name = name\n",
    "        \n",
    "    def get_name(self):\n",
    "        return self.name\n",
    "    \n",
    "\n",
    "# x = Robot()\n",
    "# x.set_name(\"Henry\")\n",
    "# x.say_hi()\n",
    "\n",
    "y = Robot()\n",
    "y.set_name(\"Dumbuldore\")\n",
    "print(y.get_name())\n"
   ]
  },
  {
   "cell_type": "markdown",
   "id": "7161ce8d",
   "metadata": {},
   "source": [
    "You can add an additional attribute \"build_year\" with Getters and Setters to the Robot class.\n",
    "\n"
   ]
  },
  {
   "cell_type": "code",
   "execution_count": null,
   "id": "336f8ac7",
   "metadata": {},
   "outputs": [],
   "source": [
    "class Robot:\n",
    " \n",
    "    def __init__(self, \n",
    "                 name=None,\n",
    "                 build_year=None):\n",
    "        self.name = name   \n",
    "        self.build_year = build_year\n",
    "        \n",
    "    def say_hi(self):\n",
    "        if self.name:\n",
    "            print(\"Hi, I am \" + self.name)\n",
    "        else:\n",
    "            print(\"Hi, I am a robot without a name\")\n",
    "        \n",
    "        if self.build_year:\n",
    "            print(\"I was built in \" + str(self.build_year))\n",
    "        else:\n",
    "            print(\"It's not known, when I was created!\")\n",
    "            \n",
    "    def set_name(self, name):\n",
    "        self.name = name\n",
    "        \n",
    "    def get_name(self):\n",
    "        return self.name    \n",
    "\n",
    "    def set_build_year(self, by):\n",
    "        self.build_year = by\n",
    "        \n",
    "    def get_build_year(self):\n",
    "        return self.build_year    \n",
    "    \n",
    "\n",
    "x = Robot(\"Henry\")\n",
    "y = Robot()\n",
    "y.set_name(\"Marvin\")\n",
    "y.set_build_year(2008)\n",
    "# x.say_hi()\n",
    "# print()\n",
    "y.say_hi()"
   ]
  },
  {
   "cell_type": "markdown",
   "id": "a12f164b",
   "metadata": {},
   "source": [
    "## __str__- and __repr__-Methods"
   ]
  },
  {
   "cell_type": "code",
   "execution_count": null,
   "id": "252ca081",
   "metadata": {},
   "outputs": [],
   "source": [
    "class A:\n",
    "    pass\n",
    " \n",
    "a = A()\n",
    "print(a)"
   ]
  },
  {
   "cell_type": "code",
   "execution_count": null,
   "id": "ff1b873a",
   "metadata": {},
   "outputs": [],
   "source": [
    "repr(a)"
   ]
  },
  {
   "cell_type": "code",
   "execution_count": null,
   "id": "c245e458",
   "metadata": {},
   "outputs": [],
   "source": [
    "str(a)"
   ]
  },
  {
   "cell_type": "code",
   "execution_count": null,
   "id": "540b8d3a",
   "metadata": {},
   "outputs": [],
   "source": [
    "class A:\n",
    "    def __str__(self):\n",
    "        return \"new object is born\"\n",
    "\n",
    "a = A()\n",
    "\n",
    "print(a)\n",
    "print(repr(a))"
   ]
  },
  {
   "cell_type": "code",
   "execution_count": null,
   "id": "1d852958",
   "metadata": {},
   "outputs": [],
   "source": [
    "str(a)"
   ]
  },
  {
   "cell_type": "code",
   "execution_count": null,
   "id": "5f02fa7a",
   "metadata": {},
   "outputs": [],
   "source": [
    "print(a)"
   ]
  },
  {
   "cell_type": "code",
   "execution_count": null,
   "id": "09a7a08f",
   "metadata": {},
   "outputs": [],
   "source": [
    "a"
   ]
  },
  {
   "cell_type": "markdown",
   "id": "b3d7e039",
   "metadata": {},
   "source": [
    "####  Important"
   ]
  },
  {
   "cell_type": "raw",
   "id": "a09b6f92",
   "metadata": {},
   "source": [
    "Otherwise, if a class has only the __repr__ method and no __str__ method, __repr__ will be applied in the situations, where __str__ would be applied, if it were available:"
   ]
  },
  {
   "cell_type": "code",
   "execution_count": null,
   "id": "ca6fd6a7",
   "metadata": {},
   "outputs": [],
   "source": [
    "class A:\n",
    "    def __repr__(self):\n",
    "        return \"42\"\n",
    "\n",
    "b = A()\n",
    "\n",
    "print(repr(b))\n",
    "print(str(b))\n",
    "print(b)"
   ]
  },
  {
   "cell_type": "code",
   "execution_count": null,
   "id": "0184e3a6",
   "metadata": {},
   "outputs": [],
   "source": [
    "b"
   ]
  },
  {
   "cell_type": "raw",
   "id": "ecc751b9",
   "metadata": {},
   "source": [
    "The \"init\" Method when to use __repr__ and when __str__ ??"
   ]
  },
  {
   "cell_type": "raw",
   "id": "99a37807",
   "metadata": {},
   "source": [
    "The \"init\" Method__str__ is always the right choice, if the output should be for the end user or in other word, if it should be nicely printed."
   ]
  },
  {
   "cell_type": "raw",
   "id": "04dd11ad",
   "metadata": {},
   "source": [
    "__repr__ on the other hand is used for the internal representation of an object. The output of __repr__ should be - if feasible - a string which can be parsed by the python interpreter."
   ]
  },
  {
   "cell_type": "code",
   "execution_count": null,
   "id": "9e393b05",
   "metadata": {
    "scrolled": true
   },
   "outputs": [],
   "source": [
    "class Robot:\n",
    "\n",
    "    def __init__(self, name, build_year):\n",
    "        self.name = name\n",
    "        self.build_year = build_year\n",
    "\n",
    "    def __repr__(self):\n",
    "        return \"Robot('\" + self.name + \"', \" +  str(self.build_year) +  \")\"\n",
    "     \n",
    "\n",
    "x = Robot(\"Marvin\", 1979)\n",
    "\n",
    "print(x)"
   ]
  },
  {
   "cell_type": "code",
   "execution_count": null,
   "id": "4c4829f7",
   "metadata": {},
   "outputs": [],
   "source": [
    "class Robot:\n",
    "\n",
    "    def __init__(self, name, build_year):\n",
    "        self.name = name\n",
    "        self.build_year = build_year\n",
    "\n",
    "    def __repr__(self):\n",
    "        return \"Robot('\" + self.name + \"', \" +  str(self.build_year) +  \")\"\n",
    "\n",
    "    def __str__(self):\n",
    "        return \"Name: \" + self.name + \", Build Year: \" +  str(self.build_year)\n",
    "     \n",
    "        \n",
    "x = Robot(\"Marvin\", 1979)\n",
    "\n",
    "print(x)"
   ]
  },
  {
   "cell_type": "code",
   "execution_count": null,
   "id": "4ff04c9e",
   "metadata": {},
   "outputs": [],
   "source": [
    "x"
   ]
  },
  {
   "cell_type": "code",
   "execution_count": null,
   "id": "82ac41e2",
   "metadata": {},
   "outputs": [],
   "source": [
    "Robot(\"Marvin1\", 1979)"
   ]
  },
  {
   "cell_type": "markdown",
   "id": "9de02cd0",
   "metadata": {},
   "source": [
    "### Public, - Protected-, and Private Attributes"
   ]
  },
  {
   "cell_type": "markdown",
   "id": "a5d247f5",
   "metadata": {},
   "source": [
    "- Private attributes should only be used by the owner, i.e. inside of the class definition itself.\n",
    " \n",
    "- Protected (restricted) Attributes may be used, but at your own risk. Essentially, they should only be used under certain conditions.\n",
    "\n",
    "- Public Attributes can and should be freely used."
   ]
  },
  {
   "cell_type": "raw",
   "id": "f270a347",
   "metadata": {},
   "source": [
    "Public          name\n",
    "\n",
    "Protected      _name\n",
    "\n",
    "Private        __name"
   ]
  },
  {
   "cell_type": "code",
   "execution_count": null,
   "id": "788932be",
   "metadata": {},
   "outputs": [],
   "source": [
    "class A():\n",
    "    \n",
    "    def __init__(self):\n",
    "        self.__priv = \"I am private\"\n",
    "        self._prot = \"I am protected\"\n",
    "        self.pub = \"I am public\"\n"
   ]
  },
  {
   "cell_type": "code",
   "execution_count": null,
   "id": "92d79a6c",
   "metadata": {},
   "outputs": [],
   "source": [
    "x = A()\n",
    "x.pub"
   ]
  },
  {
   "cell_type": "code",
   "execution_count": null,
   "id": "b1d3f048",
   "metadata": {},
   "outputs": [],
   "source": [
    "x.pub = x.pub + \" and my value can be changed\"\n",
    "x.pub"
   ]
  },
  {
   "cell_type": "code",
   "execution_count": null,
   "id": "6715e908",
   "metadata": {},
   "outputs": [],
   "source": [
    "x._prot"
   ]
  },
  {
   "cell_type": "code",
   "execution_count": null,
   "id": "5a192a38",
   "metadata": {},
   "outputs": [],
   "source": [
    "x._prot = x._prot + \" changing\"\n",
    "x._prot"
   ]
  },
  {
   "cell_type": "code",
   "execution_count": null,
   "id": "990f62c0",
   "metadata": {},
   "outputs": [],
   "source": [
    "x.__priv"
   ]
  },
  {
   "cell_type": "code",
   "execution_count": null,
   "id": "17e9497d",
   "metadata": {},
   "outputs": [],
   "source": [
    "class Robot:\n",
    " \n",
    "    def __init__(self, name=None, build_year=None):\n",
    "        self.__name = name\n",
    "        self.__build_year = build_year\n",
    "        \n",
    "    def say_hi(self):\n",
    "        if self.__name:\n",
    "            print(\"Hi, I am \" + self.__name)\n",
    "        else:\n",
    "            print(\"Hi, I am a robot without a name\")\n",
    "            \n",
    "    def set_name(self, name):\n",
    "        self.__name = name\n",
    "        \n",
    "    def get_name(self):\n",
    "        return self.__name    \n",
    "\n",
    "    def set_build_year(self, by):\n",
    "        self.__build_year = by\n",
    "        \n",
    "    def get_build_year(self):\n",
    "        return self.__build_year    \n",
    "    \n",
    "    def __repr__(self):\n",
    "        return \"Robot('\" + self.__name + \"', \" +  str(self.__build_year) +  \")\"\n",
    "\n",
    "    def __str__(self):\n",
    "        return \"Name: \" + self.__name + \", Build Year: \" +  str(self.__build_year)\n"
   ]
  },
  {
   "cell_type": "code",
   "execution_count": null,
   "id": "1f9df8ad",
   "metadata": {},
   "outputs": [],
   "source": [
    "x = Robot(\"Marvin\", 1979)\n",
    "y = Robot(\"Caliban\", 1943)"
   ]
  },
  {
   "cell_type": "code",
   "execution_count": null,
   "id": "d679cf18",
   "metadata": {},
   "outputs": [],
   "source": [
    "print(x)"
   ]
  },
  {
   "cell_type": "code",
   "execution_count": null,
   "id": "7364615a",
   "metadata": {},
   "outputs": [],
   "source": [
    "x"
   ]
  },
  {
   "cell_type": "code",
   "execution_count": null,
   "id": "6d4a626f",
   "metadata": {},
   "outputs": [],
   "source": [
    "x.get_name()"
   ]
  },
  {
   "cell_type": "code",
   "execution_count": null,
   "id": "8dbe056a",
   "metadata": {},
   "outputs": [],
   "source": [
    "x.__name"
   ]
  },
  {
   "cell_type": "code",
   "execution_count": null,
   "id": "6efafe18",
   "metadata": {},
   "outputs": [],
   "source": [
    "x.__dict__"
   ]
  },
  {
   "cell_type": "code",
   "execution_count": null,
   "id": "f371f1a2",
   "metadata": {},
   "outputs": [],
   "source": [
    "dir(x)"
   ]
  },
  {
   "cell_type": "code",
   "execution_count": null,
   "id": "4b01b90d",
   "metadata": {},
   "outputs": [],
   "source": [
    "x._Robot__name"
   ]
  },
  {
   "cell_type": "code",
   "execution_count": null,
   "id": "cb9ca42e",
   "metadata": {},
   "outputs": [],
   "source": [
    "x._Robot__name = \"Marvin1\""
   ]
  },
  {
   "cell_type": "code",
   "execution_count": null,
   "id": "abe584a6",
   "metadata": {},
   "outputs": [],
   "source": [
    "x.get_name()"
   ]
  },
  {
   "cell_type": "code",
   "execution_count": null,
   "id": "66a0445c",
   "metadata": {},
   "outputs": [],
   "source": [
    "x = Robot(\"Marvin\", 1979)\n",
    "y = Robot(\"Caliban\", 1943)\n",
    "for rob in [x, y]:\n",
    "    rob.say_hi()\n",
    "    if rob.get_name() == \"Caliban\":\n",
    "        rob.set_build_year(1993)\n",
    "    print(\"I was built in the year \" + str(rob.get_build_year()) + \"!\")"
   ]
  },
  {
   "cell_type": "code",
   "execution_count": null,
   "id": "7f4db670",
   "metadata": {},
   "outputs": [],
   "source": [
    "print(x, y)"
   ]
  },
  {
   "cell_type": "code",
   "execution_count": null,
   "id": "2d3c27fc",
   "metadata": {},
   "outputs": [],
   "source": [
    "del x ; del y"
   ]
  },
  {
   "cell_type": "raw",
   "id": "d518a18c",
   "metadata": {},
   "source": [
    "Every private attribute of our class has a getter and a setter. "
   ]
  },
  {
   "cell_type": "code",
   "execution_count": null,
   "id": "a6114d4b",
   "metadata": {},
   "outputs": [],
   "source": [
    "x"
   ]
  },
  {
   "cell_type": "markdown",
   "id": "71ab1d03",
   "metadata": {},
   "source": [
    "### Destructor"
   ]
  },
  {
   "cell_type": "raw",
   "id": "f8b75abc",
   "metadata": {},
   "source": [
    " the method __del__. It is called when the instance is about to be destroyed "
   ]
  },
  {
   "cell_type": "code",
   "execution_count": null,
   "id": "c1c02f53",
   "metadata": {},
   "outputs": [],
   "source": [
    "class Robot():\n",
    "    \n",
    "    def __init__(self, name):\n",
    "        self.name = name\n",
    "        print(self.name + \" has been created!\")\n",
    "        \n",
    "    def __del__(self):\n",
    "        print(str(self.name) + \" Robot has been destroyed\")\n",
    "        \n",
    "        \n",
    "\n",
    "x = Robot(\"Tik-Tok\")\n",
    "y = Robot(\"Jenkins\")"
   ]
  },
  {
   "cell_type": "code",
   "execution_count": null,
   "id": "1d882910",
   "metadata": {},
   "outputs": [],
   "source": [
    "print(y)"
   ]
  },
  {
   "cell_type": "code",
   "execution_count": null,
   "id": "ab384e88",
   "metadata": {},
   "outputs": [],
   "source": [
    "del y"
   ]
  },
  {
   "cell_type": "code",
   "execution_count": null,
   "id": "83a00819",
   "metadata": {},
   "outputs": [],
   "source": [
    "print(x.name)"
   ]
  },
  {
   "cell_type": "code",
   "execution_count": null,
   "id": "e1a07eb2",
   "metadata": {},
   "outputs": [],
   "source": [
    "del x"
   ]
  },
  {
   "cell_type": "code",
   "execution_count": null,
   "id": "83883966",
   "metadata": {},
   "outputs": [],
   "source": [
    "x"
   ]
  },
  {
   "cell_type": "code",
   "execution_count": null,
   "id": "25f8f274",
   "metadata": {},
   "outputs": [],
   "source": []
  }
 ],
 "metadata": {
  "kernelspec": {
   "display_name": "Python 3 (ipykernel)",
   "language": "python",
   "name": "python3"
  },
  "language_info": {
   "codemirror_mode": {
    "name": "ipython",
    "version": 3
   },
   "file_extension": ".py",
   "mimetype": "text/x-python",
   "name": "python",
   "nbconvert_exporter": "python",
   "pygments_lexer": "ipython3",
   "version": "3.9.13"
  }
 },
 "nbformat": 4,
 "nbformat_minor": 5
}
