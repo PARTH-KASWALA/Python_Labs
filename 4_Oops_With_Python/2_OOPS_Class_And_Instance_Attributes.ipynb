{
 "cells": [
  {
   "cell_type": "markdown",
   "id": "17aad600",
   "metadata": {},
   "source": [
    "## Class Attributes"
   ]
  },
  {
   "cell_type": "raw",
   "id": "aa99db9f",
   "metadata": {},
   "source": [
    "Instance attributes are owned by the specific instances of a class. That is, for two different instances, the instance attributes are usually different.\n",
    "\n",
    "We can also define attributes at the class level. Class attributes are attributes which are owned by the class itself. They will be shared by all the instances of the class. \n",
    "\n",
    "Therefore they have the same value for every instance. We define class attributes outside all the methods, usually they are placed at the top."
   ]
  },
  {
   "cell_type": "code",
   "execution_count": 1,
   "id": "e6073b30",
   "metadata": {
    "scrolled": true
   },
   "outputs": [],
   "source": [
    "class A:\n",
    "    a = \"I am a class attribute!\"\n",
    "\n",
    "x = A()\n",
    "y = A()"
   ]
  },
  {
   "cell_type": "code",
   "execution_count": 2,
   "id": "961d61ef",
   "metadata": {
    "scrolled": true
   },
   "outputs": [
    {
     "data": {
      "text/plain": [
       "'I am a class attribute!'"
      ]
     },
     "execution_count": 2,
     "metadata": {},
     "output_type": "execute_result"
    }
   ],
   "source": [
    "x.a"
   ]
  },
  {
   "cell_type": "code",
   "execution_count": 3,
   "id": "0e5d74ef",
   "metadata": {
    "scrolled": true
   },
   "outputs": [
    {
     "data": {
      "text/plain": [
       "'I am a class attribute!'"
      ]
     },
     "execution_count": 3,
     "metadata": {},
     "output_type": "execute_result"
    }
   ],
   "source": [
    "y.a"
   ]
  },
  {
   "cell_type": "code",
   "execution_count": 4,
   "id": "d465933b",
   "metadata": {
    "scrolled": true
   },
   "outputs": [
    {
     "data": {
      "text/plain": [
       "'I am a class attribute!'"
      ]
     },
     "execution_count": 4,
     "metadata": {},
     "output_type": "execute_result"
    }
   ],
   "source": [
    "A.a"
   ]
  },
  {
   "cell_type": "markdown",
   "id": "a9f11d1b",
   "metadata": {},
   "source": [
    "###  if you want to change a class attribute, you should to do it with the notation ClassName.AttributeName"
   ]
  },
  {
   "cell_type": "code",
   "execution_count": 7,
   "id": "92c0bd97",
   "metadata": {
    "scrolled": true
   },
   "outputs": [],
   "source": [
    "class A:\n",
    "    a = \"I am a class attribute!\"\n",
    "\n",
    "x = A()\n",
    "y = A()\n",
    "\n",
    "x.a = \"This creates a new instance attribute for x!\""
   ]
  },
  {
   "cell_type": "code",
   "execution_count": 8,
   "id": "4f964b15",
   "metadata": {
    "scrolled": true
   },
   "outputs": [
    {
     "data": {
      "text/plain": [
       "'I am a class attribute!'"
      ]
     },
     "execution_count": 8,
     "metadata": {},
     "output_type": "execute_result"
    }
   ],
   "source": [
    "y.a"
   ]
  },
  {
   "cell_type": "code",
   "execution_count": 9,
   "id": "dda9794e",
   "metadata": {
    "scrolled": true
   },
   "outputs": [
    {
     "data": {
      "text/plain": [
       "'I am a class attribute!'"
      ]
     },
     "execution_count": 9,
     "metadata": {},
     "output_type": "execute_result"
    }
   ],
   "source": [
    "A.a"
   ]
  },
  {
   "cell_type": "code",
   "execution_count": 10,
   "id": "9add16ec",
   "metadata": {
    "scrolled": true
   },
   "outputs": [
    {
     "data": {
      "text/plain": [
       "'This creates a new instance attribute for x!'"
      ]
     },
     "execution_count": 10,
     "metadata": {},
     "output_type": "execute_result"
    }
   ],
   "source": [
    "x.a"
   ]
  },
  {
   "cell_type": "code",
   "execution_count": 11,
   "id": "0583e1b2",
   "metadata": {
    "scrolled": true
   },
   "outputs": [],
   "source": [
    "A.a = \"This is changing the class attribute 'a'!\""
   ]
  },
  {
   "cell_type": "code",
   "execution_count": 12,
   "id": "deefcd26",
   "metadata": {
    "scrolled": true
   },
   "outputs": [
    {
     "data": {
      "text/plain": [
       "\"This is changing the class attribute 'a'!\""
      ]
     },
     "execution_count": 12,
     "metadata": {},
     "output_type": "execute_result"
    }
   ],
   "source": [
    "A.a"
   ]
  },
  {
   "cell_type": "code",
   "execution_count": 13,
   "id": "4bd19bbb",
   "metadata": {
    "scrolled": true
   },
   "outputs": [
    {
     "data": {
      "text/plain": [
       "\"This is changing the class attribute 'a'!\""
      ]
     },
     "execution_count": 13,
     "metadata": {},
     "output_type": "execute_result"
    }
   ],
   "source": [
    "y.a"
   ]
  },
  {
   "cell_type": "code",
   "execution_count": 14,
   "id": "4bd18e77",
   "metadata": {
    "scrolled": true
   },
   "outputs": [
    {
     "data": {
      "text/plain": [
       "'This creates a new instance attribute for x!'"
      ]
     },
     "execution_count": 14,
     "metadata": {},
     "output_type": "execute_result"
    }
   ],
   "source": [
    "x.a   ## but x.a is still the previously created instance variable"
   ]
  },
  {
   "cell_type": "code",
   "execution_count": 15,
   "id": "a9c59245",
   "metadata": {
    "scrolled": true
   },
   "outputs": [
    {
     "data": {
      "text/plain": [
       "{'a': 'This creates a new instance attribute for x!'}"
      ]
     },
     "execution_count": 15,
     "metadata": {},
     "output_type": "execute_result"
    }
   ],
   "source": [
    "x.__dict__"
   ]
  },
  {
   "cell_type": "code",
   "execution_count": 16,
   "id": "a4698937",
   "metadata": {
    "scrolled": true
   },
   "outputs": [
    {
     "data": {
      "text/plain": [
       "{}"
      ]
     },
     "execution_count": 16,
     "metadata": {},
     "output_type": "execute_result"
    }
   ],
   "source": [
    "y.__dict__"
   ]
  },
  {
   "cell_type": "code",
   "execution_count": 17,
   "id": "2d543c4e",
   "metadata": {
    "scrolled": true
   },
   "outputs": [
    {
     "data": {
      "text/plain": [
       "mappingproxy({'__module__': '__main__',\n",
       "              'a': \"This is changing the class attribute 'a'!\",\n",
       "              '__dict__': <attribute '__dict__' of 'A' objects>,\n",
       "              '__weakref__': <attribute '__weakref__' of 'A' objects>,\n",
       "              '__doc__': None})"
      ]
     },
     "execution_count": 17,
     "metadata": {},
     "output_type": "execute_result"
    }
   ],
   "source": [
    "A.__dict__"
   ]
  },
  {
   "cell_type": "code",
   "execution_count": 18,
   "id": "95f958ca",
   "metadata": {
    "scrolled": true
   },
   "outputs": [
    {
     "data": {
      "text/plain": [
       "mappingproxy({'__module__': '__main__',\n",
       "              'a': \"This is changing the class attribute 'a'!\",\n",
       "              '__dict__': <attribute '__dict__' of 'A' objects>,\n",
       "              '__weakref__': <attribute '__weakref__' of 'A' objects>,\n",
       "              '__doc__': None})"
      ]
     },
     "execution_count": 18,
     "metadata": {},
     "output_type": "execute_result"
    }
   ],
   "source": [
    "x.__class__.__dict__       ## Which is similar  to  \"A.__dict__\""
   ]
  },
  {
   "cell_type": "code",
   "execution_count": 19,
   "id": "7540645d",
   "metadata": {
    "scrolled": true
   },
   "outputs": [
    {
     "data": {
      "text/plain": [
       "\"This is changing the class attribute 'a'!\""
      ]
     },
     "execution_count": 19,
     "metadata": {},
     "output_type": "execute_result"
    }
   ],
   "source": [
    "x.__class__.a"
   ]
  },
  {
   "cell_type": "markdown",
   "id": "e420c446",
   "metadata": {},
   "source": [
    "### Example with Class Attributes"
   ]
  },
  {
   "cell_type": "code",
   "execution_count": 20,
   "id": "af588baf",
   "metadata": {
    "scrolled": true
   },
   "outputs": [],
   "source": [
    "class Robot:\n",
    "\n",
    "    Three_Laws = (\n",
    "\"\"\"A robot may not injure a human being or, through inaction, allow a human being to come to harm.\"\"\",\n",
    "\"\"\"A robot must obey the orders given to it by human beings, except where such orders would conflict with the First Law.,\"\"\",\n",
    "\"\"\"A robot must protect its own existence as long as such protection does not conflict with the First or Second Law.\"\"\"\n",
    ")\n",
    "    def __init__(self, name, build_year):\n",
    "        self.name = name\n",
    "        self.build_year = build_year\n",
    "\n",
    "    # other methods as usual"
   ]
  },
  {
   "cell_type": "markdown",
   "id": "5f7cdf19",
   "metadata": {},
   "source": [
    "As we mentioned before, we can access a class attribute via instance or via the class name."
   ]
  },
  {
   "cell_type": "code",
   "execution_count": 21,
   "id": "2b641f9f",
   "metadata": {
    "scrolled": true
   },
   "outputs": [
    {
     "name": "stdout",
     "output_type": "stream",
     "text": [
      "1:\n",
      "A robot may not injure a human being or, through inaction, allow a human being to come to harm.\n",
      "2:\n",
      "A robot must obey the orders given to it by human beings, except where such orders would conflict with the First Law.,\n",
      "3:\n",
      "A robot must protect its own existence as long as such protection does not conflict with the First or Second Law.\n"
     ]
    }
   ],
   "source": [
    "for number, text in enumerate(Robot.Three_Laws):\n",
    "    print(str(number+1) + \":\\n\" + text) "
   ]
  },
  {
   "cell_type": "markdown",
   "id": "2c395209",
   "metadata": {},
   "source": [
    "### Example  \n",
    "\n",
    "- to create a class attribute, which we call \"counter\" in our example\n",
    "- to increment this attribute by 1 every time a new instance is created\n",
    "- to decrement the attribute by 1 every time an instance is destroyed"
   ]
  },
  {
   "cell_type": "code",
   "execution_count": 22,
   "id": "99443a72",
   "metadata": {
    "scrolled": true
   },
   "outputs": [
    {
     "name": "stdout",
     "output_type": "stream",
     "text": [
      "Number of instances: : 1\n",
      "Number of instances: : 2\n",
      "Number of instances: : 1 deleted\n",
      "Number of instances: : 0 deleted\n"
     ]
    }
   ],
   "source": [
    "class C: \n",
    "\n",
    "    counter = 0\n",
    "    \n",
    "    def __init__(self): \n",
    "        C.counter += 1\n",
    "\n",
    "    def __del__(self):\n",
    "        C.counter -= 1\n",
    "\n",
    "\n",
    "x = C()\n",
    "print(\"Number of instances: : \" + str(C.counter))\n",
    "y = C()\n",
    "print(\"Number of instances: : \" + str(C.counter))\n",
    "\n",
    "del x\n",
    "print(\"Number of instances: : \" + str(C.counter) + ' deleted')\n",
    "del y\n",
    "print(\"Number of instances: : \" + str(C.counter) + ' deleted')"
   ]
  },
  {
   "cell_type": "markdown",
   "id": "8cd07761",
   "metadata": {},
   "source": [
    "### Static Methods"
   ]
  },
  {
   "cell_type": "raw",
   "id": "dc1facf9",
   "metadata": {},
   "source": [
    "We used class attributes as public attributes in the previous section. \n",
    "Of course, we can make public attributes private as well. We can do this by adding the double underscore again. \n",
    "If we do so, we need a possibility to access and change these private class attributes. We could use instance methods for this purpose:"
   ]
  },
  {
   "cell_type": "code",
   "execution_count": 23,
   "id": "6f2834cf",
   "metadata": {
    "scrolled": true
   },
   "outputs": [
    {
     "name": "stdout",
     "output_type": "stream",
     "text": [
      "1\n",
      "2\n"
     ]
    }
   ],
   "source": [
    "class Robot:\n",
    "    __counter = 0\n",
    "    \n",
    "    def __init__(self):\n",
    "        Robot.__counter += 1\n",
    "        \n",
    "    def RobotInstances(self):\n",
    "        return Robot.__counter\n",
    "        \n",
    "\n",
    "x = Robot()\n",
    "print(x.RobotInstances())\n",
    "\n",
    "y = Robot()\n",
    "print(y.RobotInstances())"
   ]
  },
  {
   "cell_type": "code",
   "execution_count": 24,
   "id": "fa4d8ba2",
   "metadata": {},
   "outputs": [
    {
     "name": "stdout",
     "output_type": "stream",
     "text": [
      "3\n"
     ]
    }
   ],
   "source": [
    "z = Robot()\n",
    "print(z.RobotInstances())"
   ]
  },
  {
   "cell_type": "code",
   "execution_count": 25,
   "id": "a74a08de",
   "metadata": {},
   "outputs": [
    {
     "name": "stdout",
     "output_type": "stream",
     "text": [
      "3\n"
     ]
    }
   ],
   "source": [
    "print(y.RobotInstances())"
   ]
  },
  {
   "cell_type": "raw",
   "id": "ada398e0",
   "metadata": {},
   "source": [
    "This is not a good idea for two reasons:\n",
    "\n",
    "First of all, because the number of robots has nothing to do with a single robot instance and secondly because we can't inquire the number of robots before we create an instance.\n",
    "\n",
    "If we try to invoke the method with the class name Robot.RobotInstances(), we get an error message, because it needs an instance as an argument:\n",
    "\n",
    "for Example:"
   ]
  },
  {
   "cell_type": "code",
   "execution_count": 26,
   "id": "9a88348b",
   "metadata": {},
   "outputs": [],
   "source": [
    "c = 12"
   ]
  },
  {
   "cell_type": "code",
   "execution_count": 27,
   "id": "7cb90ec0",
   "metadata": {
    "scrolled": true
   },
   "outputs": [
    {
     "data": {
      "text/plain": [
       "3"
      ]
     },
     "execution_count": 27,
     "metadata": {},
     "output_type": "execute_result"
    }
   ],
   "source": [
    "Robot.RobotInstances(c)   ## this will give error"
   ]
  },
  {
   "cell_type": "code",
   "execution_count": 28,
   "id": "91f0c95c",
   "metadata": {},
   "outputs": [
    {
     "data": {
      "text/plain": [
       "__main__.Robot"
      ]
     },
     "execution_count": 28,
     "metadata": {},
     "output_type": "execute_result"
    }
   ],
   "source": [
    "type(x)"
   ]
  },
  {
   "cell_type": "code",
   "execution_count": 29,
   "id": "5c9aaf70",
   "metadata": {},
   "outputs": [],
   "source": [
    "class Robot:\n",
    "    __counter = 0\n",
    "    \n",
    "    def __init__(self):\n",
    "        type(self).__counter += 1\n",
    "        \n",
    "    def RobotInstances(self):\n",
    "        return type(self).__counter"
   ]
  },
  {
   "cell_type": "code",
   "execution_count": 30,
   "id": "434fb9e1",
   "metadata": {},
   "outputs": [
    {
     "ename": "AttributeError",
     "evalue": "type object 'int' has no attribute '_Robot__counter'",
     "output_type": "error",
     "traceback": [
      "\u001b[1;31m---------------------------------------------------------------------------\u001b[0m",
      "\u001b[1;31mAttributeError\u001b[0m                            Traceback (most recent call last)",
      "\u001b[1;32m~\\AppData\\Local\\Temp\\ipykernel_5764\\257667913.py\u001b[0m in \u001b[0;36m<module>\u001b[1;34m\u001b[0m\n\u001b[0;32m      1\u001b[0m \u001b[0mc\u001b[0m \u001b[1;33m=\u001b[0m \u001b[1;36m12\u001b[0m\u001b[1;33m\u001b[0m\u001b[1;33m\u001b[0m\u001b[0m\n\u001b[1;32m----> 2\u001b[1;33m \u001b[0mRobot\u001b[0m\u001b[1;33m.\u001b[0m\u001b[0mRobotInstances\u001b[0m\u001b[1;33m(\u001b[0m\u001b[0mc\u001b[0m\u001b[1;33m)\u001b[0m\u001b[1;33m\u001b[0m\u001b[1;33m\u001b[0m\u001b[0m\n\u001b[0m",
      "\u001b[1;32m~\\AppData\\Local\\Temp\\ipykernel_5764\\2040233400.py\u001b[0m in \u001b[0;36mRobotInstances\u001b[1;34m(self)\u001b[0m\n\u001b[0;32m      6\u001b[0m \u001b[1;33m\u001b[0m\u001b[0m\n\u001b[0;32m      7\u001b[0m     \u001b[1;32mdef\u001b[0m \u001b[0mRobotInstances\u001b[0m\u001b[1;33m(\u001b[0m\u001b[0mself\u001b[0m\u001b[1;33m)\u001b[0m\u001b[1;33m:\u001b[0m\u001b[1;33m\u001b[0m\u001b[1;33m\u001b[0m\u001b[0m\n\u001b[1;32m----> 8\u001b[1;33m         \u001b[1;32mreturn\u001b[0m \u001b[0mtype\u001b[0m\u001b[1;33m(\u001b[0m\u001b[0mself\u001b[0m\u001b[1;33m)\u001b[0m\u001b[1;33m.\u001b[0m\u001b[0m__counter\u001b[0m\u001b[1;33m\u001b[0m\u001b[1;33m\u001b[0m\u001b[0m\n\u001b[0m",
      "\u001b[1;31mAttributeError\u001b[0m: type object 'int' has no attribute '_Robot__counter'"
     ]
    }
   ],
   "source": [
    "c = 12\n",
    "Robot.RobotInstances(c)"
   ]
  },
  {
   "cell_type": "raw",
   "id": "b4e6ab82",
   "metadata": {},
   "source": [
    "The next idea, which still doesn't solve our problem, is omitting the parameter \"self\":"
   ]
  },
  {
   "cell_type": "code",
   "execution_count": 31,
   "id": "a73a3acb",
   "metadata": {
    "scrolled": true
   },
   "outputs": [],
   "source": [
    "class Robot:\n",
    "    __counter = 0\n",
    "    \n",
    "    def __init__(self):\n",
    "        type(self).__counter += 1\n",
    "        \n",
    "    def RobotInstances():\n",
    "        return Robot.__counter"
   ]
  },
  {
   "cell_type": "raw",
   "id": "513c616e",
   "metadata": {},
   "source": [
    "Now it's possible to access the method via the class name, but we can't call it via an instance:"
   ]
  },
  {
   "cell_type": "code",
   "execution_count": 32,
   "id": "04e9f90b",
   "metadata": {
    "scrolled": true
   },
   "outputs": [
    {
     "data": {
      "text/plain": [
       "0"
      ]
     },
     "execution_count": 32,
     "metadata": {},
     "output_type": "execute_result"
    }
   ],
   "source": [
    "Robot.RobotInstances()"
   ]
  },
  {
   "cell_type": "code",
   "execution_count": 33,
   "id": "48ae29a2",
   "metadata": {
    "scrolled": true
   },
   "outputs": [
    {
     "ename": "TypeError",
     "evalue": "RobotInstances() takes 0 positional arguments but 1 was given",
     "output_type": "error",
     "traceback": [
      "\u001b[1;31m---------------------------------------------------------------------------\u001b[0m",
      "\u001b[1;31mTypeError\u001b[0m                                 Traceback (most recent call last)",
      "\u001b[1;32m~\\AppData\\Local\\Temp\\ipykernel_5764\\3959349948.py\u001b[0m in \u001b[0;36m<module>\u001b[1;34m\u001b[0m\n\u001b[0;32m      1\u001b[0m \u001b[0mx\u001b[0m \u001b[1;33m=\u001b[0m \u001b[0mRobot\u001b[0m\u001b[1;33m(\u001b[0m\u001b[1;33m)\u001b[0m\u001b[1;33m\u001b[0m\u001b[1;33m\u001b[0m\u001b[0m\n\u001b[1;32m----> 2\u001b[1;33m \u001b[0mx\u001b[0m\u001b[1;33m.\u001b[0m\u001b[0mRobotInstances\u001b[0m\u001b[1;33m(\u001b[0m\u001b[1;33m)\u001b[0m\u001b[1;33m\u001b[0m\u001b[1;33m\u001b[0m\u001b[0m\n\u001b[0m",
      "\u001b[1;31mTypeError\u001b[0m: RobotInstances() takes 0 positional arguments but 1 was given"
     ]
    }
   ],
   "source": [
    "x = Robot()\n",
    "x.RobotInstances()"
   ]
  },
  {
   "cell_type": "code",
   "execution_count": null,
   "id": "2707e7a8",
   "metadata": {},
   "outputs": [],
   "source": []
  },
  {
   "cell_type": "markdown",
   "id": "ef79b47d",
   "metadata": {},
   "source": [
    "The solution lies in static methods, which don't need a reference to an instance."
   ]
  },
  {
   "cell_type": "code",
   "execution_count": 34,
   "id": "23db314a",
   "metadata": {
    "scrolled": true
   },
   "outputs": [
    {
     "name": "stdout",
     "output_type": "stream",
     "text": [
      "0\n",
      "1\n",
      "2\n",
      "2\n"
     ]
    }
   ],
   "source": [
    "class Robot:\n",
    "    __counter = 0\n",
    "    \n",
    "    def __init__(self):\n",
    "        type(self).__counter += 1    ## which is similar to C.__counter += 1\n",
    "        \n",
    "    @staticmethod\n",
    "    def RobotInstances():\n",
    "        return Robot.__counter\n",
    "        \n",
    "\n",
    "print(Robot.RobotInstances())\n",
    "x = Robot()\n",
    "print(x.RobotInstances())\n",
    "y = Robot()\n",
    "print(y.RobotInstances())\n",
    "print(Robot.RobotInstances())"
   ]
  },
  {
   "cell_type": "markdown",
   "id": "2e4481fc",
   "metadata": {},
   "source": [
    "### Class Methods"
   ]
  },
  {
   "cell_type": "raw",
   "id": "23ebbb44",
   "metadata": {},
   "source": [
    "Static methods shouldn't be confused with class methods. \n",
    "\n",
    "Like static methods class methods are not bound to instances, but unlike static methods class methods are bound to a class.\n",
    "\n",
    "The first parameter of a class method is a reference to a class, i.e. a class object. They can be called via an instance or the class name.\n"
   ]
  },
  {
   "cell_type": "code",
   "execution_count": 35,
   "id": "8dde93f0",
   "metadata": {
    "scrolled": true
   },
   "outputs": [
    {
     "name": "stdout",
     "output_type": "stream",
     "text": [
      "0\n",
      "1\n",
      "2\n",
      "2\n"
     ]
    }
   ],
   "source": [
    "class Robot:\n",
    "    __counter = 0\n",
    "    \n",
    "    def __init__(self):\n",
    "        type(self).__counter += 1\n",
    "        \n",
    "    @classmethod\n",
    "    def RobotInstances(cls):\n",
    "        return cls.__counter\n",
    "        \n",
    "\n",
    "        \n",
    "print(Robot.RobotInstances())\n",
    "x = Robot()\n",
    "print(x.RobotInstances())\n",
    "y = Robot()\n",
    "print(x.RobotInstances())\n",
    "print(Robot.RobotInstances())"
   ]
  },
  {
   "cell_type": "code",
   "execution_count": null,
   "id": "c789834b",
   "metadata": {},
   "outputs": [],
   "source": []
  },
  {
   "cell_type": "markdown",
   "id": "541cec9f",
   "metadata": {},
   "source": [
    "#### The use cases of class methods:\n",
    "\n",
    "- They are used in the definition of the so-called factory methods, which we will not cover here.\n",
    "\n",
    "- They are often used, where we have static methods, which have to call other static methods. To do this, we would have to hard code the class name, if we had to use static methods. This is a problem, if we are in a use case, where we have inherited classes."
   ]
  },
  {
   "cell_type": "markdown",
   "id": "6131b17b",
   "metadata": {},
   "source": [
    "Example"
   ]
  },
  {
   "cell_type": "code",
   "execution_count": 45,
   "id": "701f2470",
   "metadata": {
    "scrolled": true
   },
   "outputs": [],
   "source": [
    "class fraction:\n",
    "\n",
    "    def __init__(self, n, d):\n",
    "        self.numerator, self.denominator = fraction.reduce(n, d)\n",
    "        \n",
    "\n",
    "    @staticmethod\n",
    "    def gcd(a,b):\n",
    "        while b != 0:\n",
    "            a, b = b, a%b\n",
    "        return a\n",
    "\n",
    "    @classmethod\n",
    "    def reduce(cls, n1, n2):\n",
    "        g = cls.gcd(n1, n2)\n",
    "        return (n1 // g, n2 // g)\n",
    "\n",
    "    def __str__(self):\n",
    "        return str(self.numerator)+'/'+str(self.denominator)"
   ]
  },
  {
   "cell_type": "code",
   "execution_count": null,
   "id": "efae8a07",
   "metadata": {},
   "outputs": [],
   "source": []
  },
  {
   "cell_type": "code",
   "execution_count": 46,
   "id": "74ea4d1a",
   "metadata": {
    "scrolled": true
   },
   "outputs": [
    {
     "name": "stdout",
     "output_type": "stream",
     "text": [
      "1/3\n"
     ]
    }
   ],
   "source": [
    "x = fraction(8,24)\n",
    "print(x)"
   ]
  },
  {
   "cell_type": "markdown",
   "id": "c3791a98",
   "metadata": {},
   "source": [
    "### Class Methods vs. Static Methods and Instance Methods"
   ]
  },
  {
   "cell_type": "code",
   "execution_count": 47,
   "id": "64f50aa8",
   "metadata": {
    "scrolled": true
   },
   "outputs": [
    {
     "name": "stdout",
     "output_type": "stream",
     "text": [
      "This class is about pet animals!\n",
      "This class is about man's best friends!\n",
      "This class is about all kinds of cats!\n"
     ]
    }
   ],
   "source": [
    "class Pet:\n",
    "    _class_info = \"pet animals\"\n",
    "    \n",
    "    \n",
    "    def about(self):\n",
    "        print(\"This class is about \" + self._class_info + \"!\")   \n",
    "    \n",
    "\n",
    "class Dog(Pet):\n",
    "    _class_info = \"man's best friends\"\n",
    "\n",
    "class Cat(Pet):\n",
    "    _class_info = \"all kinds of cats\"\n",
    "\n",
    "p = Pet()\n",
    "p.about()\n",
    "d = Dog()\n",
    "d.about()\n",
    "c = Cat()\n",
    "c.about()"
   ]
  },
  {
   "cell_type": "code",
   "execution_count": 50,
   "id": "8e07df7f",
   "metadata": {},
   "outputs": [
    {
     "ename": "TypeError",
     "evalue": "about() missing 1 required positional argument: 'self'",
     "output_type": "error",
     "traceback": [
      "\u001b[1;31m---------------------------------------------------------------------------\u001b[0m",
      "\u001b[1;31mTypeError\u001b[0m                                 Traceback (most recent call last)",
      "\u001b[1;32m~\\AppData\\Local\\Temp\\ipykernel_5764\\3177744148.py\u001b[0m in \u001b[0;36m<module>\u001b[1;34m\u001b[0m\n\u001b[1;32m----> 1\u001b[1;33m \u001b[0mPet\u001b[0m\u001b[1;33m.\u001b[0m\u001b[0mabout\u001b[0m\u001b[1;33m(\u001b[0m\u001b[1;33m)\u001b[0m\u001b[1;33m\u001b[0m\u001b[1;33m\u001b[0m\u001b[0m\n\u001b[0m",
      "\u001b[1;31mTypeError\u001b[0m: about() missing 1 required positional argument: 'self'"
     ]
    }
   ],
   "source": [
    "Pet.about()"
   ]
  },
  {
   "cell_type": "markdown",
   "id": "f1012e4e",
   "metadata": {},
   "source": [
    "This may look alright at first at first glance. On second thought we recognize the awful design. We had to create instances of the **Pet**, **Dog** and **Cat** classes to be able to ask what the class is about. It would be a lot better, if we could just write **Pet.about()**, **Dog.about()** and **Cat.about()** to get the previous result. We cannot do this. We will have to write **Pet.about(p)**, **Dog.about(d)** and **Cat.about(c)** instead."
   ]
  },
  {
   "cell_type": "code",
   "execution_count": 51,
   "id": "0cd2e5ad",
   "metadata": {
    "scrolled": true
   },
   "outputs": [
    {
     "name": "stdout",
     "output_type": "stream",
     "text": [
      "This class is about pet animals!\n",
      "This class is about pet animals!\n",
      "This class is about pet animals!\n"
     ]
    }
   ],
   "source": [
    "class Pet:\n",
    "    _class_info = \"pet animals\"\n",
    "\n",
    "    @staticmethod\n",
    "    def about():\n",
    "        print(\"This class is about \" + Pet._class_info + \"!\")   \n",
    "    \n",
    "\n",
    "class Dog(Pet):\n",
    "    _class_info = \"man's best friends\"\n",
    "\n",
    "class Cat(Pet):\n",
    "    _class_info = \"all kinds of cats\"\n",
    "\n",
    "Pet.about()\n",
    "Dog.about()\n",
    "Cat.about()"
   ]
  },
  {
   "cell_type": "markdown",
   "id": "00f03211",
   "metadata": {},
   "source": [
    "In other words, we have no way of differenciating between the class **Pet** and its subclasses **Dog** and **Cat**. The problem is that the method *about* does not know that it has been called via the **Pet** the **Dog** or the **Cat** class."
   ]
  },
  {
   "cell_type": "raw",
   "id": "36a12af8",
   "metadata": {},
   "source": [
    "A classmethod is the solution to all our problems. We will decorate about with a classmethod decorator instead of a staticmethod decorator:"
   ]
  },
  {
   "cell_type": "code",
   "execution_count": 52,
   "id": "af64403d",
   "metadata": {
    "scrolled": true
   },
   "outputs": [
    {
     "name": "stdout",
     "output_type": "stream",
     "text": [
      "This class is about pet animals!\n",
      "This class is about man's best friends!\n",
      "This class is about all kinds of cats!\n"
     ]
    }
   ],
   "source": [
    "class Pet:\n",
    "    _class_info = \"pet animals\"\n",
    "\n",
    "    @classmethod\n",
    "    def about(cls):\n",
    "        print(\"This class is about \" + cls._class_info + \"!\")   \n",
    "    \n",
    "\n",
    "class Dog(Pet):\n",
    "    _class_info = \"man's best friends\"\n",
    "\n",
    "class Cat(Pet):\n",
    "    _class_info = \"all kinds of cats\"\n",
    "\n",
    "Pet.about()\n",
    "Dog.about()\n",
    "Cat.about()"
   ]
  },
  {
   "cell_type": "code",
   "execution_count": 53,
   "id": "46fb0291",
   "metadata": {},
   "outputs": [
    {
     "name": "stdout",
     "output_type": "stream",
     "text": [
      "This class is about pet animals!\n",
      "This class is about man's best friends!\n"
     ]
    }
   ],
   "source": [
    "p = Pet()\n",
    "d = Dog()\n",
    "p.about()\n",
    "d.about()"
   ]
  },
  {
   "cell_type": "markdown",
   "id": "e7b6ebd6",
   "metadata": {},
   "source": [
    "## Writing code in more Pythonic way"
   ]
  },
  {
   "cell_type": "code",
   "execution_count": null,
   "id": "11fb4e5e",
   "metadata": {
    "scrolled": true
   },
   "outputs": [],
   "source": [
    "class P:\n",
    "\n",
    "    def __init__(self, x):\n",
    "        self.__x = x\n",
    "\n",
    "    def get_x(self):\n",
    "        return self.__x\n",
    "\n",
    "    def set_x(self, x):\n",
    "        self.__x = x"
   ]
  },
  {
   "cell_type": "code",
   "execution_count": null,
   "id": "403c2f99",
   "metadata": {
    "scrolled": true
   },
   "outputs": [],
   "source": [
    "p1 = P(42)\n",
    "p2 = P(4711)\n",
    "p1.get_x()"
   ]
  },
  {
   "cell_type": "code",
   "execution_count": null,
   "id": "6413efaf",
   "metadata": {
    "scrolled": true
   },
   "outputs": [],
   "source": [
    "p1.set_x(47)\n",
    "p1.set_x(p1.get_x()+p2.get_x())\n",
    "p1.get_x()"
   ]
  },
  {
   "cell_type": "raw",
   "id": "2d38c860",
   "metadata": {},
   "source": [
    "Let's rewrite the class P in a Pythonic way. No getter, no setter and instead of the private attribute self.__x we use a public one:"
   ]
  },
  {
   "cell_type": "code",
   "execution_count": null,
   "id": "34112ae2",
   "metadata": {
    "scrolled": true
   },
   "outputs": [],
   "source": [
    "class P:\n",
    "\n",
    "    def __init__(self,x):\n",
    "        self.x = x"
   ]
  },
  {
   "cell_type": "code",
   "execution_count": null,
   "id": "dcb9d953",
   "metadata": {
    "scrolled": true
   },
   "outputs": [],
   "source": [
    "p1 = P(42)\n",
    "p2 = P(4711)\n",
    "p1.x"
   ]
  },
  {
   "cell_type": "code",
   "execution_count": null,
   "id": "18ab5b71",
   "metadata": {
    "scrolled": true
   },
   "outputs": [],
   "source": [
    "p1.x = 47\n",
    "p1.x = p1.x + p2.x\n",
    "p1.x"
   ]
  },
  {
   "cell_type": "code",
   "execution_count": null,
   "id": "b9bea17e",
   "metadata": {
    "scrolled": true
   },
   "outputs": [],
   "source": [
    "a = int(input('enter some int: '))\n",
    "p6 = P(a)"
   ]
  },
  {
   "cell_type": "code",
   "execution_count": null,
   "id": "acc33dd9",
   "metadata": {},
   "outputs": [],
   "source": [
    "p6.x"
   ]
  },
  {
   "cell_type": "code",
   "execution_count": null,
   "id": "8b2b39f8",
   "metadata": {},
   "outputs": [],
   "source": []
  }
 ],
 "metadata": {
  "kernelspec": {
   "display_name": "Python 3 (ipykernel)",
   "language": "python",
   "name": "python3"
  },
  "language_info": {
   "codemirror_mode": {
    "name": "ipython",
    "version": 3
   },
   "file_extension": ".py",
   "mimetype": "text/x-python",
   "name": "python",
   "nbconvert_exporter": "python",
   "pygments_lexer": "ipython3",
   "version": "3.9.13"
  }
 },
 "nbformat": 4,
 "nbformat_minor": 5
}
