{
 "cells": [
  {
   "cell_type": "markdown",
   "id": "76d2bb82",
   "metadata": {},
   "source": [
    "<img src=\"vehicles_classification_800w.webp\">  <h1> Inheritance in Python </h1>"
   ]
  },
  {
   "cell_type": "raw",
   "id": "3ccec14f",
   "metadata": {},
   "source": [
    "The syntax for a subclass definition looks like this:\n",
    "\n",
    "class DerivedClassName(BaseClassName):\n",
    "    pass"
   ]
  },
  {
   "cell_type": "markdown",
   "id": "061fff90",
   "metadata": {},
   "source": [
    "### Simple Inheritance Example"
   ]
  },
  {
   "cell_type": "code",
   "execution_count": 1,
   "id": "0d896a98",
   "metadata": {
    "scrolled": false
   },
   "outputs": [
    {
     "name": "stdout",
     "output_type": "stream",
     "text": [
      "<__main__.Robot object at 0x000002F01789C880> <class '__main__.Robot'>\n",
      "<__main__.PhysicianRobot object at 0x000002F01789C190> <class '__main__.PhysicianRobot'>\n",
      "Hi, I am James\n"
     ]
    }
   ],
   "source": [
    "class Robot:\n",
    "    \n",
    "    def __init__(self, name):\n",
    "        self.name = name\n",
    "        \n",
    "    def say_hi(self):\n",
    "        print(\"Hi, I am \" + self.name)\n",
    "        \n",
    "class PhysicianRobot(Robot):\n",
    "    pass\n",
    "\n",
    "x = Robot(\"Marvin\")\n",
    "y = PhysicianRobot(\"James\")\n",
    "\n",
    "print(x, type(x))\n",
    "print(y, type(y))\n",
    "\n",
    "y.say_hi()"
   ]
  },
  {
   "cell_type": "code",
   "execution_count": 2,
   "id": "e8b2d922",
   "metadata": {},
   "outputs": [
    {
     "name": "stdout",
     "output_type": "stream",
     "text": [
      "True True\n",
      "False\n",
      "True\n",
      "False True\n"
     ]
    }
   ],
   "source": [
    "x = Robot(\"Marvin\")\n",
    "y = PhysicianRobot(\"James\")\n",
    "\n",
    "print(isinstance(x, Robot), isinstance(y, Robot))\n",
    "print(isinstance(x, PhysicianRobot))\n",
    "print(isinstance(y, PhysicianRobot))\n",
    "\n",
    "print(type(y) == Robot, type(y) == PhysicianRobot)"
   ]
  },
  {
   "cell_type": "markdown",
   "id": "833ff9ea",
   "metadata": {},
   "source": [
    "This is even true for arbitrary ancestors of the class in the inheritance line:"
   ]
  },
  {
   "cell_type": "code",
   "execution_count": 3,
   "id": "f3e12eeb",
   "metadata": {},
   "outputs": [
    {
     "name": "stdout",
     "output_type": "stream",
     "text": [
      "True\n",
      "True\n"
     ]
    }
   ],
   "source": [
    "class A:\n",
    "    pass\n",
    "\n",
    "class B(A):\n",
    "    pass\n",
    "\n",
    "class C(B):\n",
    "    pass\n",
    "\n",
    "a = A()\n",
    "x = C()\n",
    "print(isinstance(a, A))\n",
    "print(isinstance(x, A))"
   ]
  },
  {
   "cell_type": "markdown",
   "id": "32438912",
   "metadata": {},
   "source": [
    "### Overriding"
   ]
  },
  {
   "cell_type": "raw",
   "id": "4f272a78",
   "metadata": {},
   "source": [
    "Let us get back to our new PhysicianRobot class. Imagine now that an instance of a PhysicianRobot should say hi in a different way. In this case, we have to redefine the method say_hi inside of the subclass PhysicianRobot:"
   ]
  },
  {
   "cell_type": "code",
   "execution_count": 4,
   "id": "95d533a8",
   "metadata": {},
   "outputs": [
    {
     "name": "stdout",
     "output_type": "stream",
     "text": [
      "Everything will be okay! \n",
      "Dr. James will takes care of you!\n"
     ]
    }
   ],
   "source": [
    "class Robot:\n",
    "    \n",
    "    def __init__(self, name):\n",
    "        self.name = name\n",
    "        \n",
    "    def say_hi(self):\n",
    "        print(\"Hi, I am \" + self.name)\n",
    "        \n",
    "class PhysicianRobot(Robot):\n",
    "#     pass\n",
    "    def say_hi(self):\n",
    "        print(\"Everything will be okay! \") \n",
    "        print('Dr. '+ self.name + \" will takes care of you!\")\n",
    "\n",
    "y = PhysicianRobot(\"James\")\n",
    "y.say_hi()"
   ]
  },
  {
   "cell_type": "code",
   "execution_count": 5,
   "id": "6f89d576",
   "metadata": {},
   "outputs": [
    {
     "name": "stdout",
     "output_type": "stream",
     "text": [
      "Hi, I am Jublin\n"
     ]
    }
   ],
   "source": [
    "x = Robot(\"Jublin\")\n",
    "x.say_hi()"
   ]
  },
  {
   "cell_type": "raw",
   "id": "7f324805",
   "metadata": {},
   "source": [
    "What we have done in the previous example is called overriding. A method of a parent class gets overridden by simply defining a method with the same name in the child class.\n",
    "\n",
    "If a method is overridden in a class, the original method can still be accessed, but we have to do it by calling the method directly with the class name, i.e. Robot.say_hi(y). We demonstrate this in the following code:\n"
   ]
  },
  {
   "cell_type": "code",
   "execution_count": 6,
   "id": "c9ba899a",
   "metadata": {},
   "outputs": [
    {
     "name": "stdout",
     "output_type": "stream",
     "text": [
      "Everything will be okay! \n",
      "Dr. Doc. James will takes care of you!\n",
      "\n",
      "... and now the 'traditional' robot way of saying hi :-)\n",
      "Hi, I am Doc. James\n"
     ]
    }
   ],
   "source": [
    "y = PhysicianRobot(\"Doc. James\")\n",
    "y.say_hi()\n",
    "\n",
    "print(\"\\n... and now the 'traditional' robot way of saying hi :-)\")\n",
    "Robot.say_hi(y)"
   ]
  },
  {
   "cell_type": "code",
   "execution_count": 7,
   "id": "16e2871b",
   "metadata": {},
   "outputs": [
    {
     "data": {
      "text/plain": [
       "0.5920296187692967"
      ]
     },
     "execution_count": 7,
     "metadata": {},
     "output_type": "execute_result"
    }
   ],
   "source": [
    "import random\n",
    "random.random()"
   ]
  },
  {
   "cell_type": "code",
   "execution_count": 8,
   "id": "335f4f6f",
   "metadata": {},
   "outputs": [],
   "source": [
    "import random\n",
    "\n",
    "class Robot:\n",
    "    \n",
    "    def __init__(self, name):\n",
    "        self.name = name\n",
    "        self.health_level = random.random() \n",
    "        \n",
    "    def say_hi(self):                           ## super_class method\n",
    "        print(\"Hi, I am \" + self.name)\n",
    "        \n",
    "    def needs_a_doctor(self):                  ## super_class  method\n",
    "        if self.health_level < 0.8:\n",
    "            return True\n",
    "        else:\n",
    "            return False\n",
    "\n",
    "\n",
    "class PhysicianRobot(Robot):\n",
    "\n",
    "    def say_hi(self):                         ## overriding super class method\n",
    "        print(\"Everything will be okay! \") \n",
    "        print(self.name + \" takes care of you!\")\n",
    "\n",
    "\n",
    "    def heal(self, robo):                     ## subclass method\n",
    "        robo.health_level = random.uniform(robo.health_level, 1)\n",
    "        print(robo.name + \" has been healed by \" + self.name + \"!\")\n",
    "\n"
   ]
  },
  {
   "cell_type": "code",
   "execution_count": 9,
   "id": "8002f982",
   "metadata": {},
   "outputs": [
    {
     "name": "stdout",
     "output_type": "stream",
     "text": [
      "health_level of Marvin0 before healing:  0.16\n",
      "Marvin0 has been healed by Dr. Frankenstein!\n",
      "health_level of Marvin0 after healing:  0.82\n",
      "health_level of Marvin1 before healing:  0.63\n",
      "Marvin1 has been healed by Dr. Frankenstein!\n",
      "health_level of Marvin1 after healing:  0.7\n",
      "health_level of Marvin2 before healing:  0.27\n",
      "Marvin2 has been healed by Dr. Frankenstein!\n",
      "health_level of Marvin2 after healing:  0.48\n",
      "health_level of Marvin3 before healing:  0.29\n",
      "Marvin3 has been healed by Dr. Frankenstein!\n",
      "health_level of Marvin3 after healing:  0.46\n",
      "health_level of Marvin4 before healing:  0.44\n",
      "Marvin4 has been healed by Dr. Frankenstein!\n",
      "health_level of Marvin4 after healing:  0.5\n",
      "\n",
      "\n",
      " [('Marvin0', 0.82), ('Marvin1', 0.7), ('Marvin2', 0.48), ('Marvin3', 0.46), ('Marvin4', 0.5)]\n"
     ]
    }
   ],
   "source": [
    "doc = PhysicianRobot(\"Dr. Frankenstein\")        \n",
    "\n",
    "rob_list = []\n",
    "for i in range(5):\n",
    "    x = Robot(\"Marvin\" + str(i))\n",
    "    if x.needs_a_doctor():\n",
    "        print(\"health_level of \" + x.name + \" before healing: \", round(x.health_level, 2))\n",
    "        doc.heal(x)\n",
    "        print(\"health_level of \" + x.name + \" after healing: \", round(x.health_level, 2))\n",
    "    rob_list.append((x.name, round(x.health_level, 2)))\n",
    "    \n",
    "print(\"\\n\\n\", rob_list)\n"
   ]
  },
  {
   "cell_type": "code",
   "execution_count": 10,
   "id": "6fb55fe8",
   "metadata": {},
   "outputs": [
    {
     "name": "stdout",
     "output_type": "stream",
     "text": [
      "Hi, I am Dr. Frankenstein\n",
      "and I am a physician!\n"
     ]
    }
   ],
   "source": [
    "class PhysicianRobot(Robot):\n",
    "\n",
    "    def say_hi(self):\n",
    "        Robot.say_hi(self)\n",
    "        print(\"and I am a physician!\")\n",
    "\n",
    "        \n",
    "doc = PhysicianRobot(\"Dr. Frankenstein\")      \n",
    "doc.say_hi()"
   ]
  },
  {
   "cell_type": "markdown",
   "id": "cca602fc",
   "metadata": {},
   "source": [
    "We don't want to write redundant code and therefore we called **Robot.say_hi(self)**. We could also use the ***super function:***"
   ]
  },
  {
   "cell_type": "code",
   "execution_count": 11,
   "id": "b82d6788",
   "metadata": {},
   "outputs": [
    {
     "name": "stdout",
     "output_type": "stream",
     "text": [
      "Hi, I am Dr. Frankenstein\n",
      "and I am a physician!\n"
     ]
    }
   ],
   "source": [
    "class PhysicianRobot(Robot):\n",
    "\n",
    "    def say_hi(self):\n",
    "        super().say_hi()\n",
    "        print(\"and I am a physician!\")\n",
    "\n",
    "        \n",
    "doc = PhysicianRobot(\"Dr. Frankenstein\")      \n",
    "doc.say_hi()"
   ]
  },
  {
   "cell_type": "markdown",
   "id": "88aa5867",
   "metadata": {},
   "source": [
    "### Distinction between Overwriting, Overloading and Overriding"
   ]
  },
  {
   "cell_type": "markdown",
   "id": "aa24f548",
   "metadata": {},
   "source": [
    "#### Overwriting"
   ]
  },
  {
   "cell_type": "markdown",
   "id": "38218692",
   "metadata": {},
   "source": [
    "If we overwrite a function, the original function will be gone. The function will be redefined."
   ]
  },
  {
   "cell_type": "code",
   "execution_count": 12,
   "id": "ff490037",
   "metadata": {},
   "outputs": [
    {
     "name": "stdout",
     "output_type": "stream",
     "text": [
      "45\n",
      "46\n"
     ]
    }
   ],
   "source": [
    "def f(x):\n",
    "    return x + 42\n",
    "\n",
    "print(f(3))\n",
    "# f will be overwritten (or redefined) in the following:\n",
    "\n",
    "def f(x):\n",
    "    return x + 43\n",
    "print(f(3))"
   ]
  },
  {
   "cell_type": "markdown",
   "id": "5784a295",
   "metadata": {},
   "source": [
    "#### Overloading"
   ]
  },
  {
   "cell_type": "markdown",
   "id": "e0df37f9",
   "metadata": {},
   "source": [
    "It's the ability of one function to perform different tasks, depending on the number of parameters or the types of the parameters. We cannot overload functions like this in Python, but it is not necessary either.\n"
   ]
  },
  {
   "cell_type": "code",
   "execution_count": 13,
   "id": "bc2d8489",
   "metadata": {},
   "outputs": [
    {
     "name": "stdout",
     "output_type": "stream",
     "text": [
      "49\n"
     ]
    }
   ],
   "source": [
    "def f(n):\n",
    "    return n + 42\n",
    " \n",
    "def f(n,m):\n",
    "    return n + m + 42\n",
    "\n",
    "print(f(3, 4))"
   ]
  },
  {
   "cell_type": "code",
   "execution_count": 14,
   "id": "0c8914fb",
   "metadata": {},
   "outputs": [
    {
     "ename": "TypeError",
     "evalue": "f() missing 1 required positional argument: 'm'",
     "output_type": "error",
     "traceback": [
      "\u001b[1;31m---------------------------------------------------------------------------\u001b[0m",
      "\u001b[1;31mTypeError\u001b[0m                                 Traceback (most recent call last)",
      "\u001b[1;32m~\\AppData\\Local\\Temp\\ipykernel_7028\\608181891.py\u001b[0m in \u001b[0;36m<module>\u001b[1;34m\u001b[0m\n\u001b[1;32m----> 1\u001b[1;33m \u001b[0mf\u001b[0m\u001b[1;33m(\u001b[0m\u001b[1;36m3\u001b[0m\u001b[1;33m)\u001b[0m\u001b[1;33m\u001b[0m\u001b[1;33m\u001b[0m\u001b[0m\n\u001b[0m",
      "\u001b[1;31mTypeError\u001b[0m: f() missing 1 required positional argument: 'm'"
     ]
    }
   ],
   "source": [
    "f(3)"
   ]
  },
  {
   "cell_type": "markdown",
   "id": "3302e91c",
   "metadata": {},
   "source": [
    "The second definition of f with two parameters redefines or overwrite the first definition with one argument. Overwriting means that the first definition is not available anymore."
   ]
  },
  {
   "cell_type": "markdown",
   "id": "a80dbde3",
   "metadata": {},
   "source": [
    "Yet, it is possible to simulate the overloading behaviour of C++ in Python in this case with a default parameter:"
   ]
  },
  {
   "cell_type": "code",
   "execution_count": 15,
   "id": "8fb23260",
   "metadata": {},
   "outputs": [
    {
     "name": "stdout",
     "output_type": "stream",
     "text": [
      "45 46\n"
     ]
    }
   ],
   "source": [
    "def f(n, m=None):\n",
    "    if m:\n",
    "        return n + m +42\n",
    "    else:\n",
    "        return n + 42\n",
    "\n",
    "print(f(3), f(1, 3))"
   ]
  },
  {
   "cell_type": "markdown",
   "id": "07283fda",
   "metadata": {},
   "source": [
    "The * operator can be used as a more general approach for a family of functions with 1, 2, 3, or even more parameters:"
   ]
  },
  {
   "cell_type": "code",
   "execution_count": 16,
   "id": "a82471fc",
   "metadata": {},
   "outputs": [
    {
     "name": "stdout",
     "output_type": "stream",
     "text": [
      "45 4 51\n"
     ]
    }
   ],
   "source": [
    "def f(*x):\n",
    "    if len(x) == 1:\n",
    "        return x[0] + 42\n",
    "    elif len(x) == 2:\n",
    "        return x[0] - x[1] + 5\n",
    "    else:\n",
    "        return 2 * x[0] + x[1] + x[2] + 42\n",
    "\n",
    "print(f(3), f(1, 2), f(3, 2, 1))"
   ]
  },
  {
   "cell_type": "markdown",
   "id": "1ee1985c",
   "metadata": {},
   "source": [
    "####  Overriding"
   ]
  },
  {
   "cell_type": "markdown",
   "id": "5201f393",
   "metadata": {},
   "source": [
    "Overriding is already explained above!"
   ]
  },
  {
   "cell_type": "code",
   "execution_count": null,
   "id": "120902d0",
   "metadata": {},
   "outputs": [],
   "source": []
  },
  {
   "cell_type": "markdown",
   "id": "49802d5c",
   "metadata": {},
   "source": [
    "### Multiple Inheritance"
   ]
  },
  {
   "cell_type": "code",
   "execution_count": 17,
   "id": "5ddb6658",
   "metadata": {},
   "outputs": [],
   "source": [
    "class A:\n",
    "    def m(self):\n",
    "        print(\"m of A called\")\n",
    "\n",
    "class B(A):\n",
    "    pass\n",
    "#     def m(self):\n",
    "#         print(\"m of B called\")\n",
    "    \n",
    "class C(A):\n",
    "    pass\n",
    "    def m(self):\n",
    "        print(\"m of C called\")\n",
    "\n",
    "class D(B,C):\n",
    "    pass"
   ]
  },
  {
   "cell_type": "code",
   "execution_count": 18,
   "id": "1da7429f",
   "metadata": {},
   "outputs": [
    {
     "name": "stdout",
     "output_type": "stream",
     "text": [
      "m of C called\n"
     ]
    }
   ],
   "source": [
    "x = D()\n",
    "x.m()"
   ]
  },
  {
   "cell_type": "code",
   "execution_count": 19,
   "id": "74d25f2a",
   "metadata": {},
   "outputs": [
    {
     "name": "stdout",
     "output_type": "stream",
     "text": [
      "Help on class D in module __main__:\n",
      "\n",
      "class D(B, C)\n",
      " |  Method resolution order:\n",
      " |      D\n",
      " |      B\n",
      " |      C\n",
      " |      A\n",
      " |      builtins.object\n",
      " |  \n",
      " |  Methods inherited from C:\n",
      " |  \n",
      " |  m(self)\n",
      " |  \n",
      " |  ----------------------------------------------------------------------\n",
      " |  Data descriptors inherited from A:\n",
      " |  \n",
      " |  __dict__\n",
      " |      dictionary for instance variables (if defined)\n",
      " |  \n",
      " |  __weakref__\n",
      " |      list of weak references to the object (if defined)\n",
      "\n"
     ]
    }
   ],
   "source": [
    "help(D)"
   ]
  },
  {
   "cell_type": "code",
   "execution_count": 20,
   "id": "489df36d",
   "metadata": {},
   "outputs": [
    {
     "name": "stdout",
     "output_type": "stream",
     "text": [
      "m of C called\n"
     ]
    }
   ],
   "source": [
    "class A:\n",
    "    def m(self):\n",
    "        print(\"m of A called\")\n",
    "\n",
    "class B(A):\n",
    "    pass\n",
    "    \n",
    "class C(A):\n",
    "    def m(self):\n",
    "        print(\"m of C called\")\n",
    "#     pass\n",
    "\n",
    "class D(B,C):\n",
    "    pass\n",
    "\n",
    "x = D()\n",
    "x.m()"
   ]
  },
  {
   "cell_type": "code",
   "execution_count": 21,
   "id": "83e2b74b",
   "metadata": {},
   "outputs": [],
   "source": [
    "class A:\n",
    "    def m(self):\n",
    "        print(\"m of A called\")\n",
    "\n",
    "class B(A):\n",
    "    def m(self):\n",
    "        print(\"m of B called\")\n",
    "    \n",
    "class C(A):\n",
    "    def m(self):\n",
    "        print(\"m of C called\")\n",
    "\n",
    "class D(B,C):\n",
    "    def m(self):\n",
    "        print(\"m of D called\")"
   ]
  },
  {
   "cell_type": "code",
   "execution_count": 22,
   "id": "e00b3c47",
   "metadata": {},
   "outputs": [
    {
     "name": "stdout",
     "output_type": "stream",
     "text": [
      "m of D called\n"
     ]
    }
   ],
   "source": [
    "x = D()\n",
    "x.m()"
   ]
  },
  {
   "cell_type": "code",
   "execution_count": 23,
   "id": "2ba52269",
   "metadata": {},
   "outputs": [
    {
     "name": "stdout",
     "output_type": "stream",
     "text": [
      "m of B called\n"
     ]
    }
   ],
   "source": [
    "B.m(x)"
   ]
  },
  {
   "cell_type": "code",
   "execution_count": 24,
   "id": "eddfc6c1",
   "metadata": {},
   "outputs": [
    {
     "name": "stdout",
     "output_type": "stream",
     "text": [
      "m of C called\n"
     ]
    }
   ],
   "source": [
    "C.m(x)"
   ]
  },
  {
   "cell_type": "code",
   "execution_count": 25,
   "id": "6053c96b",
   "metadata": {},
   "outputs": [
    {
     "name": "stdout",
     "output_type": "stream",
     "text": [
      "m of A called\n"
     ]
    }
   ],
   "source": [
    "A.m(x)"
   ]
  },
  {
   "cell_type": "code",
   "execution_count": 26,
   "id": "3041ee78",
   "metadata": {},
   "outputs": [],
   "source": [
    "class A:\n",
    "    def __init__(self):\n",
    "        print(\"A.__init__\")\n",
    "\n",
    "\n",
    "class B(A):\n",
    "    def __init__(self):\n",
    "        print(\"B.__init__\")\n",
    "        super().__init__()\n",
    "    \n",
    "class C(A):\n",
    "    def __init__(self):\n",
    "        print(\"C.__init__\")\n",
    "#         super().__init__()\n",
    "\n",
    "class M(A):\n",
    "    def __init__(self):\n",
    "        print(\"M.__init__\")\n",
    "#         print(\"this is ending\")\n",
    "#         super().__init__()\n",
    "\n",
    "class D(B, M, C):\n",
    "    def __init__(self):\n",
    "        print(\"D.__init__\")\n",
    "        super().__init__()"
   ]
  },
  {
   "cell_type": "code",
   "execution_count": 27,
   "id": "54724583",
   "metadata": {},
   "outputs": [
    {
     "name": "stdout",
     "output_type": "stream",
     "text": [
      "Help on class D in module __main__:\n",
      "\n",
      "class D(B, M, C)\n",
      " |  Method resolution order:\n",
      " |      D\n",
      " |      B\n",
      " |      M\n",
      " |      C\n",
      " |      A\n",
      " |      builtins.object\n",
      " |  \n",
      " |  Methods defined here:\n",
      " |  \n",
      " |  __init__(self)\n",
      " |      Initialize self.  See help(type(self)) for accurate signature.\n",
      " |  \n",
      " |  ----------------------------------------------------------------------\n",
      " |  Data descriptors inherited from A:\n",
      " |  \n",
      " |  __dict__\n",
      " |      dictionary for instance variables (if defined)\n",
      " |  \n",
      " |  __weakref__\n",
      " |      list of weak references to the object (if defined)\n",
      "\n"
     ]
    }
   ],
   "source": [
    "help(D)"
   ]
  },
  {
   "cell_type": "code",
   "execution_count": 28,
   "id": "083380b5",
   "metadata": {},
   "outputs": [
    {
     "name": "stdout",
     "output_type": "stream",
     "text": [
      "D.__init__\n",
      "B.__init__\n",
      "M.__init__\n"
     ]
    }
   ],
   "source": [
    "d = D() \n"
   ]
  },
  {
   "cell_type": "code",
   "execution_count": 29,
   "id": "7f417023",
   "metadata": {},
   "outputs": [
    {
     "name": "stdout",
     "output_type": "stream",
     "text": [
      "C.__init__\n"
     ]
    }
   ],
   "source": [
    "c = C()"
   ]
  },
  {
   "cell_type": "code",
   "execution_count": 30,
   "id": "6d71d4aa",
   "metadata": {},
   "outputs": [
    {
     "name": "stdout",
     "output_type": "stream",
     "text": [
      "B.__init__\n",
      "A.__init__\n"
     ]
    }
   ],
   "source": [
    "b = B()"
   ]
  },
  {
   "cell_type": "code",
   "execution_count": 31,
   "id": "d37f4e95",
   "metadata": {},
   "outputs": [
    {
     "name": "stdout",
     "output_type": "stream",
     "text": [
      "A.__init__\n"
     ]
    }
   ],
   "source": [
    "a = A()"
   ]
  },
  {
   "cell_type": "markdown",
   "id": "5970becb",
   "metadata": {},
   "source": [
    "### Polymorphism"
   ]
  },
  {
   "cell_type": "markdown",
   "id": "f39be8a2",
   "metadata": {},
   "source": [
    "Polymorphism is construed from two Greek words. \"Poly\" stands for \"much\" or \"many\" and \"morph\" means shape or form. Polymorphism is the state or condition of being polymorphous, or if we use the translations of the components \"the ability to be in many shapes or forms. Polymorphism is a term used in many scientific areas. In crystallography it defines the state, if something crystallizes into two or more chemically identical but crystallographically distinct forms."
   ]
  },
  {
   "cell_type": "code",
   "execution_count": 32,
   "id": "db9a34ec",
   "metadata": {},
   "outputs": [
    {
     "name": "stdout",
     "output_type": "stream",
     "text": [
      "values:  42 43\n",
      "values:  42 43.7\n",
      "values:  42.3 43\n",
      "values:  42.0 43.9\n"
     ]
    }
   ],
   "source": [
    "def f(x, y):\n",
    "    print(\"values: \", x , y)\n",
    "\n",
    "f(42, 43)\n",
    "f(42, 43.7) \n",
    "f(42.3, 43)\n",
    "f(42.0, 43.9)"
   ]
  },
  {
   "cell_type": "markdown",
   "id": "65608f04",
   "metadata": {},
   "source": [
    "Python is implicitly polymorphic. We can apply our previously defined function f even to lists, strings or other types, which can be printed:"
   ]
  },
  {
   "cell_type": "code",
   "execution_count": 33,
   "id": "0e937b26",
   "metadata": {},
   "outputs": [
    {
     "name": "stdout",
     "output_type": "stream",
     "text": [
      "values:  [3, 5, 6] (3, 5)\n"
     ]
    }
   ],
   "source": [
    "f([3,5,6],(3,5))"
   ]
  },
  {
   "cell_type": "code",
   "execution_count": 34,
   "id": "ee3c372f",
   "metadata": {},
   "outputs": [
    {
     "name": "stdout",
     "output_type": "stream",
     "text": [
      "values:  A String ('A tuple', 'with Strings')\n"
     ]
    }
   ],
   "source": [
    "f(\"A String\", (\"A tuple\", \"with Strings\"))"
   ]
  },
  {
   "cell_type": "code",
   "execution_count": 35,
   "id": "720e949f",
   "metadata": {},
   "outputs": [
    {
     "name": "stdout",
     "output_type": "stream",
     "text": [
      "values:  {9, 2, 3} {'a': 3.4, 'b': 7.8, 'c': 9.04}\n"
     ]
    }
   ],
   "source": [
    "f({2,3,9}, {\"a\":3.4,\"b\":7.8, \"c\":9.04})"
   ]
  },
  {
   "cell_type": "code",
   "execution_count": null,
   "id": "7f5ae1d5",
   "metadata": {},
   "outputs": [],
   "source": []
  },
  {
   "cell_type": "markdown",
   "id": "1e3b7ae9",
   "metadata": {},
   "source": [
    "### Multiple Inheritance Example:"
   ]
  },
  {
   "cell_type": "raw",
   "id": "f5428db9",
   "metadata": {},
   "source": [
    "Starting from the superclass Robot we will derive two classes: A FightingRobot class and a NursingRobot class.\n",
    "\n",
    "Finally we will define a 'combination' of both the FightingRobot class and the NursingRobot class, i.e. we will implement a class FightingNurseRobot, which will inherit both from FightingRobot and NursingRobot.\n",
    "\n"
   ]
  },
  {
   "cell_type": "code",
   "execution_count": 40,
   "id": "ea96a406",
   "metadata": {},
   "outputs": [],
   "source": [
    "class A:\n",
    "    def __init__(self, name):\n",
    "        self._name = name\n",
    "    \n",
    "    @property\n",
    "    def name(self):\n",
    "        return self._name + \" Hello\""
   ]
  },
  {
   "cell_type": "code",
   "execution_count": 43,
   "id": "080c2eb8",
   "metadata": {},
   "outputs": [
    {
     "data": {
      "text/plain": [
       "'marvin Hello'"
      ]
     },
     "execution_count": 43,
     "metadata": {},
     "output_type": "execute_result"
    }
   ],
   "source": [
    "a = A(\"marvin\")\n",
    "\n",
    "a.name"
   ]
  },
  {
   "cell_type": "code",
   "execution_count": 5,
   "id": "ad071a70",
   "metadata": {},
   "outputs": [
    {
     "ename": "TypeError",
     "evalue": "unsupported operand type(s) for +: 'Second' and 'First'",
     "output_type": "error",
     "traceback": [
      "\u001b[1;31m---------------------------------------------------------------------------\u001b[0m",
      "\u001b[1;31mTypeError\u001b[0m                                 Traceback (most recent call last)",
      "\u001b[1;32m~\\AppData\\Local\\Temp\\ipykernel_4280\\1798991534.py\u001b[0m in \u001b[0;36m<module>\u001b[1;34m\u001b[0m\n\u001b[0;32m     27\u001b[0m \u001b[1;31m# print(obj1, obj2)\u001b[0m\u001b[1;33m\u001b[0m\u001b[1;33m\u001b[0m\u001b[0m\n\u001b[0;32m     28\u001b[0m \u001b[1;33m\u001b[0m\u001b[0m\n\u001b[1;32m---> 29\u001b[1;33m \u001b[0mobj\u001b[0m \u001b[1;33m=\u001b[0m \u001b[0mobj2\u001b[0m \u001b[1;33m+\u001b[0m \u001b[0mobj1\u001b[0m\u001b[1;33m\u001b[0m\u001b[1;33m\u001b[0m\u001b[0m\n\u001b[0m\u001b[0;32m     30\u001b[0m \u001b[1;31m# obj = First(\"first\") + Second(\"second\")\u001b[0m\u001b[1;33m\u001b[0m\u001b[1;33m\u001b[0m\u001b[0m\n\u001b[0;32m     31\u001b[0m \u001b[1;33m\u001b[0m\u001b[0m\n",
      "\u001b[1;31mTypeError\u001b[0m: unsupported operand type(s) for +: 'Second' and 'First'"
     ]
    }
   ],
   "source": [
    "## For showing add functionality\n",
    "\n",
    "\n",
    "class First:\n",
    "    def __init__(self, name):\n",
    "        self.name = name\n",
    "    \n",
    "    def __add__(self, a):\n",
    "        self.name = self.name + \"-\" + a.name\n",
    "        return self.name\n",
    "    \n",
    "    def __str__(self):\n",
    "        return f'First: {self.name}'\n",
    "    \n",
    "class Second:\n",
    "    def __init__(self, name):\n",
    "        self.name = name\n",
    "        \n",
    "    def __str__(self):\n",
    "        return f'Second: {self.name}'\n",
    "\n",
    "\n",
    "        \n",
    "obj1 = First(\"first\") \n",
    "obj2 = Second(\"second\")\n",
    "\n",
    "# print(obj1, obj2)\n",
    "\n",
    "obj = obj2 + obj1\n",
    "# obj = First(\"first\") + Second(\"second\")\n",
    "\n",
    "print(obj)"
   ]
  },
  {
   "cell_type": "code",
   "execution_count": 6,
   "id": "a75c9bab",
   "metadata": {},
   "outputs": [
    {
     "ename": "TypeError",
     "evalue": "unsupported operand type(s) for +: 'Second' and 'First'",
     "output_type": "error",
     "traceback": [
      "\u001b[1;31m---------------------------------------------------------------------------\u001b[0m",
      "\u001b[1;31mTypeError\u001b[0m                                 Traceback (most recent call last)",
      "\u001b[1;32m~\\AppData\\Local\\Temp\\ipykernel_4280\\575181521.py\u001b[0m in \u001b[0;36m<module>\u001b[1;34m\u001b[0m\n\u001b[1;32m----> 1\u001b[1;33m \u001b[0mSecond\u001b[0m\u001b[1;33m(\u001b[0m\u001b[1;34m\"last\"\u001b[0m\u001b[1;33m)\u001b[0m \u001b[1;33m+\u001b[0m \u001b[0mFirst\u001b[0m\u001b[1;33m(\u001b[0m\u001b[1;34m\"first\"\u001b[0m\u001b[1;33m)\u001b[0m\u001b[1;33m\u001b[0m\u001b[1;33m\u001b[0m\u001b[0m\n\u001b[0m",
      "\u001b[1;31mTypeError\u001b[0m: unsupported operand type(s) for +: 'Second' and 'First'"
     ]
    }
   ],
   "source": [
    "Second(\"last\") + First(\"first\")"
   ]
  },
  {
   "cell_type": "code",
   "execution_count": 7,
   "id": "bf97b6d4",
   "metadata": {},
   "outputs": [],
   "source": [
    "import random\n",
    "\n",
    "class Robot():\n",
    "\n",
    "    __illegal_names = {\"Henry\", \"Oscar\"}\n",
    "    __crucial_health_level = 0.6\n",
    "    \n",
    "    def __init__(self, name):\n",
    "        self.__name = name  #---> property setter\n",
    "        self.health_level = random.random()\n",
    "        \n",
    "    @property\n",
    "    def name(self):\n",
    "        return self.__name\n",
    "\n",
    "    @name.setter\n",
    "    def name(self, name):\n",
    "        if name in Robot.__illegal_names:\n",
    "            self.__name = \"Marvin\"\n",
    "        else:\n",
    "            self.__name = name\n",
    "\n",
    "    def __str__(self):\n",
    "        return self.name + \", Robot\"\n",
    " \n",
    "    def __add__(self, other):\n",
    "        first = self.name.split(\"-\")[0]\n",
    "        second = other.name.split(\"-\")[0]\n",
    "        return Robot(first + \"-\" + second)\n",
    "    \n",
    "    def needs_a_nurse(self):\n",
    "        if self.health_level < Robot.__crucial_health_level:\n",
    "            return True\n",
    "        else:\n",
    "            return False\n",
    " \n",
    "    def say_hi(self):\n",
    "        print(\"Hi, I am \" + self.name)\n",
    "        print(\"My health level is: \" + str(self.health_level)) "
   ]
  },
  {
   "cell_type": "code",
   "execution_count": 8,
   "id": "9301508b",
   "metadata": {},
   "outputs": [
    {
     "name": "stdout",
     "output_type": "stream",
     "text": [
      "Hi, I am Marvin-Enigma\n",
      "My health level is: 0.5311270909993737\n",
      "Hi, I am Enigma-Charles\n",
      "My health level is: 0.8558998047988318\n",
      "Hi, I am Marvin-Enigma\n",
      "My health level is: 0.5526655384959255\n"
     ]
    }
   ],
   "source": [
    "first_generation = (Robot(\"Marvin\"),\n",
    "                    Robot(\"Enigma-Alan\"),\n",
    "                    Robot(\"Charles-Henry\"))\n",
    "\n",
    "\n",
    "gen1 = first_generation # used as an abbreviation\n",
    "\n",
    "babies = [gen1[0] + gen1[1], gen1[1] + gen1[2]]\n",
    "\n",
    "babies.append(babies[0] + babies[1])\n",
    "for baby in babies:\n",
    "    baby.say_hi()"
   ]
  },
  {
   "cell_type": "code",
   "execution_count": 10,
   "id": "936db900",
   "metadata": {},
   "outputs": [],
   "source": [
    "class NursingRobot(Robot):\n",
    " \n",
    "    def __init__(self, name=\"Hubert\", healing_power=None):\n",
    "        super().__init__(name)\n",
    "        if healing_power:\n",
    "            self.healing_power = healing_power\n",
    "        else:\n",
    "            self.healing_power = random.uniform(0.8, 1)\n",
    "    \n",
    "    def say_hi(self):\n",
    "        print(\"Well, well, everything will be fine ... \" + self.name + \" takes care of you!\")\n",
    "\n",
    " \n",
    "    def say_hi_to_doc(self):\n",
    "        Robot.say_hi(self)\n",
    " \n",
    "    def heal(self, robo):\n",
    "        if robo.health_level > self.healing_power:\n",
    "            print(self.name + \" not strong enough to heal \" + robo.name)\n",
    "        else:\n",
    "            robo.health_level = random.uniform(robo.health_level, self.healing_power)\n",
    "            print(robo.name + \" has been healed by \" + self.name + \"!\")"
   ]
  },
  {
   "cell_type": "code",
   "execution_count": 11,
   "id": "5331dd45",
   "metadata": {},
   "outputs": [],
   "source": [
    "nurses = [NursingRobot('nurse1'), NursingRobot('nurse2')]"
   ]
  },
  {
   "cell_type": "code",
   "execution_count": 14,
   "id": "181c68e1",
   "metadata": {},
   "outputs": [],
   "source": [
    "class FightingRobot(Robot):\n",
    "     \n",
    "    __maximum_damage = 0.2\n",
    "  \n",
    "    def __init__(self, name=\"Hubert\", \n",
    "                 fighting_power=None):\n",
    "        super().__init__(name)\n",
    "        if fighting_power:\n",
    "            self.fighting_power = fighting_power\n",
    "        else:\n",
    "            max_dam = FightingRobot.__maximum_damage\n",
    "            self.fighting_power = random.uniform(max_dam, 1)\n",
    "\n",
    "     \n",
    "    def say_hi(self):\n",
    "        print(\"I am the terrible ... \" + self.name)\n",
    " \n",
    "    def attack(self, other):\n",
    "        other.health_level = other.health_level * self.fighting_power\n",
    "        \n",
    "        if isinstance(other, FightingRobot):\n",
    "            # the other robot fights back\n",
    "            self.health_level = \\\n",
    "                    self.health_level * other.fighting_power "
   ]
  },
  {
   "cell_type": "code",
   "execution_count": 15,
   "id": "2409a861",
   "metadata": {},
   "outputs": [
    {
     "name": "stdout",
     "output_type": "stream",
     "text": [
      "Marvin, Robot 0.6009145608019285\n",
      "After Attack----\n",
      "Marvin, Robot 0.24036582432077142\n",
      "Enigma-Alan, Robot 0.8003915322482481\n",
      "After Attack----\n",
      "Enigma-Alan, Robot 0.32015661289929925\n",
      "Charles-Henry, Robot 0.8096470273909951\n",
      "After Attack----\n",
      "Charles-Henry, Robot 0.32385881095639807\n"
     ]
    }
   ],
   "source": [
    "fighters = (FightingRobot(\"Rambo\", 0.4),\n",
    "            FightingRobot(\"Terminator\", 0.2))\n",
    "  \n",
    "for robo in first_generation:\n",
    "    print(robo, robo.health_level)\n",
    "    fighters[0].attack(robo)\n",
    "    print(\"After Attack----\")\n",
    "    print(robo, robo.health_level)"
   ]
  },
  {
   "cell_type": "code",
   "execution_count": 16,
   "id": "3719222a",
   "metadata": {},
   "outputs": [
    {
     "name": "stdout",
     "output_type": "stream",
     "text": [
      "Before the battle:\n",
      "Rambo has been healed by nurse2!\n",
      "Rambo, Robot 0.7273941372095368 0.4\n",
      "Terminator has been healed by nurse2!\n",
      "Terminator, Robot 0.9396364732772797 0.2\n",
      "##################################################\n",
      "\n",
      "After the battle:\n",
      "Rambo, Robot 0.14547882744190738 0.4\n",
      "Terminator, Robot 0.3758545893109119 0.2\n"
     ]
    }
   ],
   "source": [
    "# let us make them healthier first:\n",
    " \n",
    "print(\"Before the battle:\")\n",
    "for fighter in fighters:\n",
    "    nurses[1].heal(fighter)\n",
    "    print(fighter, \n",
    "          fighter.health_level, \n",
    "          fighter.fighting_power)\n",
    "\n",
    "print(50*\"#\")\n",
    "    \n",
    "fighters[0].attack(fighters[1])\n",
    " \n",
    "print(\"\\nAfter the battle:\")\n",
    "for fighter in fighters:\n",
    "    print(fighter, \n",
    "          fighter.health_level, \n",
    "          fighter.fighting_power)"
   ]
  },
  {
   "cell_type": "markdown",
   "id": "b117e154",
   "metadata": {},
   "source": [
    "#### The underlying idea of the following class FightingNurseRobot consists in having robots who can both heal and fight."
   ]
  },
  {
   "cell_type": "code",
   "execution_count": 17,
   "id": "8c658799",
   "metadata": {},
   "outputs": [],
   "source": [
    "class FightingNurseRobot(NursingRobot, FightingRobot):\n",
    "    \n",
    "    def __init__(self, name, mode=\"nursing\"):\n",
    "        super().__init__(name)\n",
    "        self.mode = mode    # alternatively \"fighting\"\n",
    "\n",
    "    def say_hi(self):\n",
    "        if self.mode == \"fighting\":\n",
    "            FightingRobot.say_hi(self)\n",
    "        elif self.mode == \"nursing\":\n",
    "            NursingRobot.say_hi(self)\n",
    "        else:\n",
    "            Robot.say_hi(self)       "
   ]
  },
  {
   "cell_type": "raw",
   "id": "6e18515f",
   "metadata": {},
   "source": [
    "We will instantiate two instances of FightingNurseRobot. You can see that after creation they are capable to heal themselves if necessary. They can also attack other robots."
   ]
  },
  {
   "cell_type": "code",
   "execution_count": 18,
   "id": "994ec844",
   "metadata": {},
   "outputs": [
    {
     "name": "stdout",
     "output_type": "stream",
     "text": [
      "Donald has been healed by Donald!\n",
      "Angela has been healed by Angela!\n",
      "0.8013604636211056 0.5812870946411404\n",
      "I am the terrible ... Donald\n",
      "Well, well, everything will be fine ... Angela takes care of you!\n",
      "0.24083098743190723 0.18709086095433416\n"
     ]
    }
   ],
   "source": [
    "fn1 = FightingNurseRobot(\"Donald\", mode=\"fighting\")\n",
    "fn2 = FightingNurseRobot(\"Angela\")\n",
    " \n",
    "if fn1.needs_a_nurse():\n",
    "    fn1.heal(fn1)\n",
    "if fn2.needs_a_nurse():\n",
    "    fn2.heal(fn2)\n",
    "print(fn1.health_level, fn2.health_level)\n",
    " \n",
    "fn1.say_hi()\n",
    "fn2.say_hi()\n",
    "fn1.attack(fn2)\n",
    "print(fn1.health_level, fn2.health_level)"
   ]
  },
  {
   "cell_type": "code",
   "execution_count": null,
   "id": "7d594e70",
   "metadata": {},
   "outputs": [],
   "source": []
  }
 ],
 "metadata": {
  "kernelspec": {
   "display_name": "Python 3 (ipykernel)",
   "language": "python",
   "name": "python3"
  },
  "language_info": {
   "codemirror_mode": {
    "name": "ipython",
    "version": 3
   },
   "file_extension": ".py",
   "mimetype": "text/x-python",
   "name": "python",
   "nbconvert_exporter": "python",
   "pygments_lexer": "ipython3",
   "version": "3.9.13"
  }
 },
 "nbformat": 4,
 "nbformat_minor": 5
}
