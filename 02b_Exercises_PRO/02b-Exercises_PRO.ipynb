{
 "cells": [
  {
   "cell_type": "markdown",
   "metadata": {},
   "source": [
    "# Programming with Python\n",
    "\n",
    "\n",
    "## Exercises: Loops and Conditionals\n",
    "\n",
    "Here are some problems to be solved as an exercise. While you are welcome to use anything that comes in standard Python distributions, you are also strongly encouraged to use only what we have learned so far. Overcomplicating can often lead to errors or too slow programs.\n",
    "\n",
    "In this problem sheet we provide some test data for you to test your programs with. In future, these will not be provided. You should always analize the problems at hand and find some data for testing. A few random inputs are always a good choice, as well as those from the boundary cases (highly dependent on the problem itself).\n",
    "\n",
    "Some creative thinking and/or Googling might be required to solve some of these problems. However, none of them require knowlege of any material beyond what we have already covered. Ask for help if you fail to solve them on your own!"
   ]
  },
  {
   "cell_type": "markdown",
   "metadata": {},
   "source": [
    "## Notes for the problems below\n",
    "\n",
    "\"Odd/even digits\" are determined by their value, not their position. For example, the odd digits of number $8417$ are $1$ and $7$, and the desired sum is $1+7 = 8$. The same goes for the even digits.\n",
    "\n",
    "Be careful with the digits. If a number can be negative, you need to lose the sign. Otherwise, you will get wrong results. For example, `-17 % 10 == 3` while `17 % 3 == 7`."
   ]
  },
  {
   "cell_type": "markdown",
   "metadata": {},
   "source": [
    "## Problems"
   ]
  },
  {
   "cell_type": "markdown",
   "metadata": {},
   "source": [
    "**Problem 1.** Write a program that loads one integer and prints the sum of its odd digits.  \n",
    "The output has to be in the form\n",
    "\n",
    "> The sum of the odd digits in number $n$ is $d$.\n",
    "\n",
    "**Test data:**\n",
    "\n",
    "* Input: $-131723$\n",
    "* Output: `The sum of the odd digits in number -131723 is 15.`  \n",
    "  ($1+3+1+7+3 = 15$)"
   ]
  },
  {
   "cell_type": "code",
   "execution_count": 4,
   "metadata": {},
   "outputs": [
    {
     "name": "stdout",
     "output_type": "stream",
     "text": [
      "Please enter some digits number-131723\n"
     ]
    }
   ],
   "source": [
    "val = int(input(\"Please enter some digits number: \"))\n",
    "\n",
    "n = abs(val)\n",
    "\n",
    "odd_num_sum = 0\n",
    "\n",
    "while n:\n",
    "    a = n % 10\n",
    "    n = n // 10\n",
    "    \n",
    "    if a % 2 != 0:\n",
    "        odd_num_sum += a"
   ]
  },
  {
   "cell_type": "code",
   "execution_count": 12,
   "metadata": {},
   "outputs": [
    {
     "data": {
      "text/plain": [
       "0"
      ]
     },
     "execution_count": 12,
     "metadata": {},
     "output_type": "execute_result"
    }
   ],
   "source": [
    "1 // 10"
   ]
  },
  {
   "cell_type": "code",
   "execution_count": 6,
   "metadata": {},
   "outputs": [
    {
     "name": "stdout",
     "output_type": "stream",
     "text": [
      "The sum of the odd digits in number -131723 is 15\n"
     ]
    }
   ],
   "source": [
    "print(\"The sum of the odd digits in number\",val, \"is\", odd_num_sum)"
   ]
  },
  {
   "cell_type": "code",
   "execution_count": 1,
   "metadata": {},
   "outputs": [
    {
     "name": "stdout",
     "output_type": "stream",
     "text": [
      "Overwriting basicfunc.py\n"
     ]
    }
   ],
   "source": [
    "%%writefile basicfunc.py\n",
    "\n",
    "def take_input():\n",
    "    \"\"\"\n",
    "    \n",
    "    \"\"\"\n",
    "    val = int(input(\"Please enter some digits numbers: \"))\n",
    "    return val\n",
    "\n",
    "def is_odd(num):\n",
    "    return num % 2 != 0\n",
    "\n",
    "def take_rem_update_val(num):\n",
    "    rem = num % 10\n",
    "    num = num // 10\n",
    "    return rem, num"
   ]
  },
  {
   "cell_type": "code",
   "execution_count": 2,
   "metadata": {},
   "outputs": [],
   "source": [
    "from basicfunc import *\n",
    "\n",
    "def sum_odd_digits():\n",
    "    number = take_input()\n",
    "    number = abs(number)\n",
    "    odd_num_sum = 0\n",
    "    \n",
    "    while number:\n",
    "        rem, number = take_rem_update_val(number)\n",
    "        if is_odd(rem):\n",
    "            odd_num_sum += rem\n",
    "            \n",
    "    return odd_num_sum"
   ]
  },
  {
   "cell_type": "code",
   "execution_count": 3,
   "metadata": {},
   "outputs": [
    {
     "name": "stdout",
     "output_type": "stream",
     "text": [
      "Please enter some digits numbers: -131723\n"
     ]
    },
    {
     "data": {
      "text/plain": [
       "15"
      ]
     },
     "execution_count": 3,
     "metadata": {},
     "output_type": "execute_result"
    }
   ],
   "source": [
    "sum_odd_digits()"
   ]
  },
  {
   "cell_type": "code",
   "execution_count": 7,
   "metadata": {},
   "outputs": [
    {
     "name": "stdout",
     "output_type": "stream",
     "text": [
      "<class 'int'>\n",
      "<class 'int'>\n",
      "<class 'int'>\n"
     ]
    }
   ],
   "source": [
    "n = str(234)\n",
    "\n",
    "for i in n:\n",
    "    print(type(int(i)))"
   ]
  },
  {
   "cell_type": "markdown",
   "metadata": {},
   "source": [
    "**Problem 2.** Write a program that loads integers until a zero is loaded and then prints the maximum among them and which one was it (not taking the zero into the account). If there is more than one maximum, use the first one among them as a solution.\n",
    "\n",
    "**Test data:**\n",
    "\n",
    "* Input: $-19, -17, -23, -17, 0$\n",
    "* Output: `The maximum number is #2 and its value is -17.`\n",
    "\n",
    "Be careful about the case when only a zero is loaded.\n",
    "\n",
    "\n",
    "\n",
    "**Problem 2a.** Do the same, but in case that there is more than one maximum, use the **last** one among them.\n",
    "\n",
    "**Hint:** Observe the \"`<`\" (or \"`>`\") sign that you have used in Problem 2. All you need to do in this problem is change it a bit.\n",
    "\n",
    "**Test data:**\n",
    "\n",
    "* Input: $-19, -17, -23, -17, 0$\n",
    "* Output: `The maximum number is #4 and its value is -17.`\n",
    "\n",
    "Be careful about the case when only a zero is loaded."
   ]
  },
  {
   "cell_type": "code",
   "execution_count": 24,
   "metadata": {},
   "outputs": [
    {
     "name": "stdout",
     "output_type": "stream",
     "text": [
      "Please enter which occurance value you need , 0 if last else 1: 1\n",
      "Please enter some digits numbers: -19\n",
      "current value:  -19 current index:  1 max value:  -19\n",
      "Please enter some digits numbers: -17\n",
      "current value:  -17 current index:  2 max value:  -17\n",
      "Please enter some digits numbers: -23\n",
      "current value:  -23 current index:  2 max value:  -17\n",
      "Please enter some digits numbers: -35\n",
      "current value:  -35 current index:  2 max value:  -17\n",
      "Please enter some digits numbers: -17\n",
      "current value:  -17 current index:  5 max value:  -17\n",
      "Please enter some digits numbers: 0\n"
     ]
    }
   ],
   "source": [
    "def take_input():\n",
    "    val = int(input(\"Please enter some digits numbers: \"))\n",
    "    return val\n",
    "\n",
    "def get_maximum(val, max_val, get_last=False):\n",
    "    if not get_last:\n",
    "        if val > max_val:\n",
    "            return val\n",
    "    else:\n",
    "        if val >= max_val:\n",
    "            return val\n",
    "\n",
    "def get_choice():\n",
    "    get_occur = int(input(\"Please enter which occurance value you need , 0 if last else 1: \"))\n",
    "    return get_occur\n",
    "\n",
    "\n",
    "get_last = get_choice()   \n",
    "val = take_input()\n",
    "curr_idx = 0\n",
    "max_idx = 0\n",
    "max_val = float(\"-inf\")\n",
    "while val:\n",
    "    curr_idx += 1\n",
    "    if get_maximum(val, max_val, get_last=get_last):\n",
    "        max_val = val\n",
    "        max_idx = curr_idx\n",
    "    print(\"current value: \",val, \"current index: \", max_idx, \"max value: \", max_val)\n",
    "    val = take_input()"
   ]
  },
  {
   "cell_type": "code",
   "execution_count": 21,
   "metadata": {
    "scrolled": false
   },
   "outputs": [
    {
     "name": "stdout",
     "output_type": "stream",
     "text": [
      "Please enter which occurance value you need , 0 if last else 1: 1\n",
      "Please enter some digits numbers: -19\n",
      "Please enter some digits numbers: -17\n",
      "Please enter some digits numbers: -23\n",
      "Please enter some digits numbers: -17\n",
      "Please enter some digits numbers: 0\n",
      "current value:  0 current index:  2 max value:  -17\n"
     ]
    }
   ],
   "source": [
    "def take_input():\n",
    "    val = int(input(\"Please enter some digits numbers: \"))\n",
    "    return val\n",
    "\n",
    "def get_maximum(val, max_val):\n",
    "    if val > max_val:\n",
    "        return val\n",
    "\n",
    "def get_choice():\n",
    "    get_occur = int(input(\"Please enter which occurance value you need , 0 if last else 1: \"))\n",
    "    return get_occur\n",
    "\n",
    "get_last = get_choice()\n",
    "val = take_input()\n",
    "li = []\n",
    "max_val = float(\"-inf\")\n",
    "while val:\n",
    "    li.append(val)\n",
    "    if get_maximum(val, max_val):\n",
    "        max_val = val\n",
    "    val = take_input()   \n",
    "    \n",
    "if get_last:\n",
    "    \n",
    "    print(\"current value: \",val, \"current index: \", li.index(max_val)+1, \"max value: \", max_val)\n",
    "else:\n",
    "    print(\"current value: \",val, \"current index: \", li.index(max_val, li.index(max_val) + 1)+1, \"max value: \", max_val)\n",
    "   \n",
    "    "
   ]
  },
  {
   "cell_type": "code",
   "execution_count": 13,
   "metadata": {},
   "outputs": [
    {
     "data": {
      "text/plain": [
       "12"
      ]
     },
     "execution_count": 13,
     "metadata": {},
     "output_type": "execute_result"
    }
   ],
   "source": [
    "# get_maximum(12, 10)"
   ]
  },
  {
   "cell_type": "code",
   "execution_count": 10,
   "metadata": {},
   "outputs": [
    {
     "data": {
      "text/plain": [
       "3"
      ]
     },
     "execution_count": 10,
     "metadata": {},
     "output_type": "execute_result"
    }
   ],
   "source": [
    "li = [-19, -17, -23, -17, -23, -34]\n",
    "val = max(li)\n",
    "\n",
    "\n",
    "li.index(val, li.index(val) + 1)"
   ]
  },
  {
   "cell_type": "markdown",
   "metadata": {},
   "source": [
    "**Problem 3.** Write a program that loads a natural number (a non-negative integer) `n` and then loads `n` integers. The program has to print the sum of the maximum digits of all the loaded numbers. If a number has multiple maximum digits, they are still taken into the sum only once ($1777$ only adds $7$ to the sum, not $7+7+7$).\n",
    "\n",
    "**Test data:**\n",
    "\n",
    "* Input: $3, -1719, 1777, 111$ ($3$ means that we're loading $3$ numbers)\n",
    "* Output: `17`  \n",
    "  ($9+7+1 = 17$)"
   ]
  },
  {
   "cell_type": "code",
   "execution_count": 21,
   "metadata": {},
   "outputs": [
    {
     "name": "stdout",
     "output_type": "stream",
     "text": [
      "Please enter how many number want to enter: 3\n",
      "Please enter some digits numbers: -1719\n",
      "Please enter some digits numbers: 1777\n",
      "Please enter some digits numbers: 111\n",
      "17\n"
     ]
    }
   ],
   "source": [
    "def how_many():\n",
    "    val = int(input(\"Please enter how many number want to enter: \"))\n",
    "    return val\n",
    "\n",
    "def take_input():\n",
    "    val = int(input(\"Please enter some digits numbers: \"))\n",
    "    return val\n",
    "\n",
    "def get_max_digits(number):\n",
    "    max_digit = 0\n",
    "    while number:\n",
    "        last_digit = number % 10\n",
    "        number = number // 10\n",
    "        \n",
    "        if last_digit > max_digit:\n",
    "            max_digit = last_digit\n",
    "    return max_digit     \n",
    "            \n",
    "val = how_many()\n",
    "\n",
    "total_max_digit = 0\n",
    "for i in range(val):\n",
    "    number = abs(take_input())\n",
    "    total_max_digit += get_max_digits(number)\n",
    "    \n",
    "print(total_max_digit)"
   ]
  },
  {
   "cell_type": "markdown",
   "metadata": {},
   "source": [
    "**Problem 4.** Solve the previous problem by taking multiple maximum digits into account as many times as they appear ($1777$ adds $21 = 7+7+7$ to the sum).\n",
    "\n",
    "**Hints**:\n",
    "\n",
    "* Distinguish the cases `d > md`, `d == md` and `d < md` (where `d` is the currently observed digit and `md` is currently the biggest one). In one case, increase a counter which will be used to keep track of how many times has this maximum appeared in the number; in another case, reset that counter and save the new maximum (in the third case, nothing is done with these two). Once you're done with a number, you should know the value of its largest digit, as well as the number of times it appeared in that number.  \n",
    "  Be careful with where in the code you are reseting both the maximum digit (this hint also applies to Problem 3) and the counter of that digit's occurences in the number.\n",
    "  \n",
    "* Alternatively, you can first find the maxinum digit `md` and then go again through the number and count all digits equal to `md`.\n",
    "\n",
    "**Test data:**\n",
    "\n",
    "* Input: $3, -1719, 1777, 111$\n",
    "* Output: `33`  \n",
    "  ($1 \\cdot 9 + 3 \\cdot 7 + 3 \\cdot 1 = 33$)"
   ]
  },
  {
   "cell_type": "code",
   "execution_count": 22,
   "metadata": {},
   "outputs": [
    {
     "name": "stdout",
     "output_type": "stream",
     "text": [
      "Please enter how many number want to enter: 3\n",
      "Please enter some digits numbers: -1719\n",
      "Please enter some digits numbers: 1777\n",
      "Please enter some digits numbers: 111\n",
      "[9, 7, 1] [1, 3, 3]\n",
      "Total : 33\n"
     ]
    }
   ],
   "source": [
    "def how_many():\n",
    "    val = int(input(\"Please enter how many number want to enter: \"))\n",
    "    return val\n",
    "\n",
    "def take_input():\n",
    "    val = int(input(\"Please enter some digits numbers: \"))\n",
    "    return val\n",
    "\n",
    "def max_digit():\n",
    "    digit_list=[]\n",
    "    for i in number:\n",
    "        digit=0\n",
    "        for j in str(i):\n",
    "            if int(j) > digit:\n",
    "                digit = int(j)\n",
    "        digit_list.append(digit)\n",
    "    return digit_list        \n",
    "\n",
    "def count_digit():\n",
    "    str_number=list(map(str,number))\n",
    "    str_md= list(map(str,ans))\n",
    "    return [int(i.count(j)) for i , j in zip(str_number, str_md)]\n",
    "\n",
    "val=how_many()\n",
    "number = [abs(take_input()) for i in range(val)]\n",
    "\n",
    "ans=max_digit()\n",
    "count=count_digit()\n",
    "\n",
    "total = 0\n",
    "for i, j in zip(ans, count):\n",
    "    total += i * j\n",
    "\n",
    "\n",
    "print(\"Total :\",total)\n"
   ]
  },
  {
   "cell_type": "markdown",
   "metadata": {},
   "source": [
    "**Problem 5.** Write a program that inputs integers until it gets a zero and prints the one with the maximum sum of its odd digits. If there is more than one such number, print the first one.\n",
    "\n",
    "**Explanation:**\n",
    "\n",
    "Read the problem text carefuly, because it may be a bit confusing.\n",
    "\n",
    "What we want is to load some numbers, then:\n",
    "\n",
    "1. For **each** of those numbers compute the sum of its odd digits.\n",
    "\n",
    "2. Find maximum **among these sums** and print the corresponding **number**.  \n",
    "   Be careful **not** to print that sum nor the absolute value of a number, instead of a number itself.\n",
    "\n",
    "Rewriting the problem in steps like these above can help you focus on parts of a problem in order to solve it properly.\n",
    "\n",
    "**Hints:**\n",
    "\n",
    "* Remember that the algorithm from the lectures removes digits from a number, so using that number as a terminating condition of the loop has to be done carefully. One way to do so is with the auxiliary variable (`tmp` in the code in the lectures), but - given the nature of the problem - this might be more convenient\n",
    "```python\n",
    "    n = input(\"The first number: \")\n",
    "    while n != 0:\n",
    "        # do what needs to be done #\n",
    "        n = input(\"The next number: \")\n",
    "```\n",
    "  If you are familiar with `break` (which the lectures will cover later), you might want to use it for a cleaner solution.\n",
    "\n",
    "* You will need a variable to store the maximum and the sum. Be careful where you initialize these!\n",
    "\n",
    "* The desired output is a number, not its sum of odd digits! When finding a new maximum, you will need to rember both the number (for the output) and the sum of its odd digits (for future comparisons).\n",
    "\n",
    "**Test data:**\n",
    "\n",
    "* Input: $13$, $-17$, $888$, $616$, $0$\n",
    "* Output: $-17$  \n",
    "  (the required sums are: $4$, $8$, $0$, $1$, so $17$ has the biggest sum of odd digits)"
   ]
  }
 ],
 "metadata": {
  "kernelspec": {
   "display_name": "Python 3 (ipykernel)",
   "language": "python",
   "name": "python3"
  },
  "language_info": {
   "codemirror_mode": {
    "name": "ipython",
    "version": 3
   },
   "file_extension": ".py",
   "mimetype": "text/x-python",
   "name": "python",
   "nbconvert_exporter": "python",
   "pygments_lexer": "ipython3",
   "version": "3.9.12"
  }
 },
 "nbformat": 4,
 "nbformat_minor": 1
}
